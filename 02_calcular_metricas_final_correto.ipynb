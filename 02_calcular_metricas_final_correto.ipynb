{
  "cells": [
    {
      "cell_type": "markdown",
      "metadata": {},
      "source": [
        "# Notebook 02: Calcular M\u00e9tricas\n",
        "Este notebook calcula m\u00e9tricas dos experimentos A/B/C por grupo e replica para cada cliente"
      ]
    },
    {
      "cell_type": "code",
      "execution_count": null,
      "metadata": {},
      "outputs": [],
      "source": [
        "# Imports e configura\u00e7\u00f5es\n",
        "import boto3\n",
        "import pandas as pd\n",
        "import json\n",
        "from datetime import datetime\n",
        "\n",
        "# Par\u00e2metros do pipeline\n",
        "bucket_name = \"experimento-lucas-barbosa\"\n",
        "user = \"lucas-barbosa\"\n",
        "prefixo_simulado = \"pipeline-experimentos\"\n",
        "input_config = \"config.json\"\n",
        "input_validation = \"validacao_resultado.json\"\n",
        "output_metricas = \"metricas_completas.csv\"\n",
        "\n",
        "# Cliente S3\n",
        "s3 = boto3.client('s3')"
      ]
    },
    {
      "cell_type": "code",
      "execution_count": null,
      "metadata": {},
      "outputs": [],
      "source": [
        "# Carregar configura\u00e7\u00f5es\n",
        "config_path = f\"{user}/{prefixo_simulado}/config/{input_config}\"\n",
        "config_obj = s3.get_object(Bucket=bucket_name, Key=config_path)\n",
        "config = json.loads(config_obj['Body'].read())\n",
        "print(f\"Config carregado: {config_path}\")"
      ]
    },
    {
      "cell_type": "code",
      "execution_count": null,
      "metadata": {},
      "outputs": [],
      "source": [
        "# Carregar resultado da valida\u00e7\u00e3o\n",
        "validation_path = f\"{user}/{prefixo_simulado}/artifacts/{input_validation}\"\n",
        "validation_obj = s3.get_object(Bucket=bucket_name, Key=validation_path)\n",
        "validation_result = json.loads(validation_obj['Body'].read())\n",
        "print(f\"Valida\u00e7\u00e3o carregada: {validation_path}\")\n",
        "print(f\"Arquivos v\u00e1lidos: {len(validation_result.get('arquivos_validos', []))}\")"
      ]
    },
    {
      "cell_type": "code",
      "execution_count": null,
      "metadata": {},
      "outputs": [],
      "source": [
        "# Fun\u00e7\u00e3o para calcular m\u00e9tricas de um grupo\n",
        "def calcular_metricas_grupo(df_grupo):\n",
        "    \"\"\"Calcula m\u00e9tricas agregadas para um grupo\"\"\"\n",
        "    metricas = {\n",
        "        'taxa_conversao': (df_grupo['uso'] > 0).mean() * 100,\n",
        "        'uso_medio': df_grupo['uso'].mean(),\n",
        "        'valor_medio': df_grupo['valor'].mean(),\n",
        "        'usuarios_unicos': df_grupo['id_customer'].nunique()\n",
        "    }\n",
        "    return metricas\n",
        "\n",
        "def padronizar_grupo_controle(df, grupo_controle_config):\n",
        "    \"\"\"Padroniza o nome do grupo de controle no DataFrame para o valor do config.\"\"\"\n",
        "    variacoes_possiveis = {\n",
        "        grupo_controle_config.lower().replace('_', '').replace(' ', ''),\n",
        "        \"gc\", \"grupocontrole\", \"grupo_controle\", \"grupo controle\", \"grupo de controle\"\n",
        "    }\n",
        "    df['grupo'] = df['grupo'].apply(\n",
        "        lambda x: grupo_controle_config if str(x).strip().lower().replace('_', '').replace(' ', '') in variacoes_possiveis else x\n",
        "    )\n",
        "    return df"
      ]
    },
    {
      "cell_type": "code",
      "execution_count": null,
      "metadata": {},
      "outputs": [],
      "source": [
        "# Processar arquivos e calcular m\u00e9tricas\n",
        "todas_metricas = []\n",
        "\n",
        "for arquivo_info in validation_result.get('arquivos_validos', []):\n",
        "    arquivo_key = arquivo_info['key']\n",
        "    nome_arquivo = arquivo_info['nome']\n",
        "    \n",
        "    print(f\"Processando: {nome_arquivo}\")\n",
        "    \n",
        "    # Ler arquivo do S3\n",
        "    df = pd.read_csv(s3.get_object(Bucket=bucket_name, Key=arquivo_key)['Body'])\n",
        "    \n",
        "    # Padronizar grupo controle se necess\u00e1rio\n",
        "    grupo_controle = config.get('grupo_controle', 'GC')\n",
        "    df = padronizar_grupo_controle(df, grupo_controle)\n",
        "    \n",
        "    # Processar cada experimento\n",
        "    for exp_id in df['id_experimento'].unique():\n",
        "        df_exp = df[df['id_experimento'] == exp_id]\n",
        "        \n",
        "        # Processar cada grupo do experimento\n",
        "        for grupo in df_exp['grupo'].unique():\n",
        "            df_grupo = df_exp[df_exp['grupo'] == grupo]\n",
        "            \n",
        "            # Calcular m\u00e9tricas do grupo\n",
        "            metricas_grupo = calcular_metricas_grupo(df_grupo)\n",
        "            \n",
        "            # Para cada cliente do grupo, criar linhas com as m\u00e9tricas\n",
        "            for _, cliente_row in df_grupo.iterrows():\n",
        "                id_customer = cliente_row['id_customer']\n",
        "                timestamp_original = cliente_row['timestamp']\n",
        "                \n",
        "                # Criar uma linha para cada m\u00e9trica para este cliente\n",
        "                for nome_metrica, valor_metrica in metricas_grupo.items():\n",
        "                    todas_metricas.append({\n",
        "                        'id_experimento': exp_id,\n",
        "                        'id_customer': id_customer,\n",
        "                        'grupo': grupo,\n",
        "                        'metrica': nome_metrica,\n",
        "                        'valor': valor_metrica,\n",
        "                        'timestamp': timestamp_original\n",
        "                    })\n",
        "    \n",
        "    print(f\"Conclu\u00eddo: {nome_arquivo}\")\n",
        "\n",
        "print(f\"Total de m\u00e9tricas calculadas: {len(todas_metricas)}\")"
      ]
    },
    {
      "cell_type": "code",
      "execution_count": null,
      "metadata": {},
      "outputs": [],
      "source": [
        "# Salvar m\u00e9tricas em DataFrame e arquivo local\n",
        "df_metricas = pd.DataFrame(todas_metricas)\n",
        "df_metricas.to_csv(output_metricas, index=False)\n",
        "print(f\"M\u00e9tricas salvas localmente: {output_metricas}\")\n",
        "print(f\"Linhas: {len(df_metricas)}\")\n",
        "print(f\"Colunas: {list(df_metricas.columns)}\")"
      ]
    },
    {
      "cell_type": "code",
      "execution_count": null,
      "metadata": {},
      "outputs": [],
      "source": [
        "# Upload das m\u00e9tricas para S3\n",
        "metricas_s3_path = f\"{user}/{prefixo_simulado}/artifacts/{output_metricas}\"\n",
        "s3.upload_file(output_metricas, bucket_name, metricas_s3_path)\n",
        "print(f\"M\u00e9tricas enviadas para S3: s3://{bucket_name}/{metricas_s3_path}\")"
      ]
    }
  ],
  "metadata": {
    "kernelspec": {
      "display_name": "Python 3",
      "language": "python",
      "name": "python3"
    },
    "language_info": {
      "name": "python",
      "version": "3.8.0"
    }
  },
  "nbformat": 4,
  "nbformat_minor": 4
}