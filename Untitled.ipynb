{
 "cells": [
  {
   "cell_type": "code",
   "execution_count": 9,
   "id": "7d9cf692-622a-4980-909b-9e1b280d57d0",
   "metadata": {
    "execution": {
     "iopub.execute_input": "2025-07-17T17:01:42.525291Z",
     "iopub.status.busy": "2025-07-17T17:01:42.524626Z",
     "iopub.status.idle": "2025-07-17T17:01:42.529262Z",
     "shell.execute_reply": "2025-07-17T17:01:42.528494Z",
     "shell.execute_reply.started": "2025-07-17T17:01:42.525261Z"
    }
   },
   "outputs": [],
   "source": [
    "import sagemaker\n",
    "from sagemaker.session import Session\n",
    "from sagemaker.processing import ScriptProcessor, ProcessingInput, ProcessingOutput\n",
    "from sagemaker.workflow.steps import ProcessingStep\n",
    "from sagemaker.workflow.pipeline import Pipeline\n",
    "from sagemaker.workflow.triggers import PipelineSchedule"
   ]
  },
  {
   "cell_type": "code",
   "execution_count": 10,
   "id": "d662b855-810f-48ea-9c3e-049616b303ab",
   "metadata": {
    "execution": {
     "iopub.execute_input": "2025-07-17T17:01:42.794156Z",
     "iopub.status.busy": "2025-07-17T17:01:42.793616Z",
     "iopub.status.idle": "2025-07-17T17:01:43.129001Z",
     "shell.execute_reply": "2025-07-17T17:01:43.128257Z",
     "shell.execute_reply.started": "2025-07-17T17:01:42.794129Z"
    }
   },
   "outputs": [],
   "source": [
    "# ─── 1) Configuração de sessão e role ─────────────────────────────────────────\n",
    "sess = Session()\n",
    "role = sagemaker.get_execution_role()\n",
    "region = sess.boto_region_name\n",
    "bucket = \"experimento-lucas-barbosa\"    # ajuste para o seu bucket"
   ]
  },
  {
   "cell_type": "code",
   "execution_count": 11,
   "id": "c27fc763-bf86-4a38-b821-ba650bd7096e",
   "metadata": {
    "execution": {
     "iopub.execute_input": "2025-07-17T17:01:43.131796Z",
     "iopub.status.busy": "2025-07-17T17:01:43.131532Z",
     "iopub.status.idle": "2025-07-17T17:01:43.135466Z",
     "shell.execute_reply": "2025-07-17T17:01:43.134710Z",
     "shell.execute_reply.started": "2025-07-17T17:01:43.131774Z"
    }
   },
   "outputs": [],
   "source": [
    "# ─── 2) Definir o ScriptProcessor ────────────────────────────────────────────\n",
    "#    Este container executará o seu processar_experimentos.py\n",
    "processor = ScriptProcessor(\n",
    "    image_uri=f\"{region}.dkr.ecr.{region}.amazonaws.com/sagemaker-scikit-learn:2.0-1-cpu-py38\",\n",
    "    command=[\"python3\"],\n",
    "    instance_count=1,\n",
    "    instance_type=\"ml.t3.medium\",\n",
    "    role=role,\n",
    "    sagemaker_session=sess\n",
    ")\n"
   ]
  },
  {
   "cell_type": "code",
   "execution_count": 12,
   "id": "a60a4bd1-4a6c-48d6-b93d-a4e8adfc3ef0",
   "metadata": {
    "execution": {
     "iopub.execute_input": "2025-07-17T17:01:43.185139Z",
     "iopub.status.busy": "2025-07-17T17:01:43.184604Z",
     "iopub.status.idle": "2025-07-17T17:01:43.191118Z",
     "shell.execute_reply": "2025-07-17T17:01:43.190233Z",
     "shell.execute_reply.started": "2025-07-17T17:01:43.185111Z"
    }
   },
   "outputs": [],
   "source": [
    "# ─── 3) Criar o ProcessingStep que roda o seu script ─────────────────────────\n",
    "step_processar = ProcessingStep(\n",
    "    name=\"ProcessarExperimentosStep\",\n",
    "    processor=processor,\n",
    "    inputs=[\n",
    "        ProcessingInput(\n",
    "            source=f\"s3://{bucket}/raw/\",\n",
    "            destination=\"/opt/ml/processing/input/raw/\"\n",
    "        )\n",
    "    ],\n",
    "    outputs=[\n",
    "        ProcessingOutput(\n",
    "            source=\"/opt/ml/processing/output/processed/\",\n",
    "            destination=f\"s3://{bucket}/processed/\"\n",
    "        ),\n",
    "        ProcessingOutput(\n",
    "            source=\"/opt/ml/processing/output/archive/\",\n",
    "            destination=f\"s3://{bucket}/archive/\"\n",
    "        )\n",
    "    ],\n",
    "    code=\"processar_experimentos.py\"\n",
    ")\n"
   ]
  },
  {
   "cell_type": "code",
   "execution_count": 13,
   "id": "eb45b405-e9df-415f-bd04-9c0ef95bd677",
   "metadata": {
    "execution": {
     "iopub.execute_input": "2025-07-17T17:01:43.950107Z",
     "iopub.status.busy": "2025-07-17T17:01:43.949664Z",
     "iopub.status.idle": "2025-07-17T17:01:43.959585Z",
     "shell.execute_reply": "2025-07-17T17:01:43.958635Z",
     "shell.execute_reply.started": "2025-07-17T17:01:43.950082Z"
    }
   },
   "outputs": [],
   "source": [
    "# ─── 4) Montar o Pipeline (sem role_arn no construtor) ──────────────────────\n",
    "pipeline = Pipeline(\n",
    "    name=\"PipelineProcessarExperimentos\",\n",
    "    steps=[step_processar],\n",
    "    sagemaker_session=sess\n",
    ")"
   ]
  },
  {
   "cell_type": "code",
   "execution_count": 14,
   "id": "6e54b5ca-6b87-4d8c-9ef4-390fed24bc6b",
   "metadata": {
    "execution": {
     "iopub.execute_input": "2025-07-17T17:01:44.517328Z",
     "iopub.status.busy": "2025-07-17T17:01:44.516714Z",
     "iopub.status.idle": "2025-07-17T17:01:45.574314Z",
     "shell.execute_reply": "2025-07-17T17:01:45.573248Z",
     "shell.execute_reply.started": "2025-07-17T17:01:44.517302Z"
    }
   },
   "outputs": [
    {
     "name": "stderr",
     "output_type": "stream",
     "text": [
      "WARNING:sagemaker.workflow.utilities:Popping out 'ProcessingJobName' from the pipeline definition by default since it will be overridden at pipeline execution time. Please utilize the PipelineDefinitionConfig to persist this field in the pipeline definition if desired.\n",
      "WARNING:sagemaker.workflow.utilities:Popping out 'ProcessingJobName' from the pipeline definition by default since it will be overridden at pipeline execution time. Please utilize the PipelineDefinitionConfig to persist this field in the pipeline definition if desired.\n"
     ]
    },
    {
     "name": "stdout",
     "output_type": "stream",
     "text": [
      "✅ Pipeline 'PipelineProcessarExperimentos' criado/atualizado com role arn:aws:iam::657444906686:role/service-role/AmazonSageMaker-ExecutionRole-20250708T150740\n"
     ]
    }
   ],
   "source": [
    "# 5) upsert() COM role_arn\n",
    "pipeline.upsert(role_arn=role)\n",
    "print(f\"✅ Pipeline '{pipeline.name}' criado/atualizado com role {role}\")"
   ]
  },
  {
   "cell_type": "code",
   "execution_count": 16,
   "id": "91285c16-b965-4766-bbcf-efd77c4f6c56",
   "metadata": {
    "execution": {
     "iopub.execute_input": "2025-07-17T17:05:59.712602Z",
     "iopub.status.busy": "2025-07-17T17:05:59.711901Z",
     "iopub.status.idle": "2025-07-17T17:06:00.032711Z",
     "shell.execute_reply": "2025-07-17T17:06:00.030712Z",
     "shell.execute_reply.started": "2025-07-17T17:05:59.712574Z"
    }
   },
   "outputs": [
    {
     "data": {
      "text/html": [
       "<pre style=\"white-space:pre;overflow-x:auto;line-height:normal;font-family:Menlo,'DejaVu Sans Mono',consolas,'Courier New',monospace\"><span style=\"color: #ff0000; text-decoration-color: #ff0000\">╭─────────────────────────────── </span><span style=\"color: #ff0000; text-decoration-color: #ff0000; font-weight: bold\">Traceback </span><span style=\"color: #ff7f7f; text-decoration-color: #ff7f7f; font-weight: bold\">(most recent call last)</span><span style=\"color: #ff0000; text-decoration-color: #ff0000\"> ────────────────────────────────╮</span>\n",
       "<span style=\"color: #ff0000; text-decoration-color: #ff0000\">│</span> in &lt;module&gt;:11                                                                                   <span style=\"color: #ff0000; text-decoration-color: #ff0000\">│</span>\n",
       "<span style=\"color: #ff0000; text-decoration-color: #ff0000\">│</span>                                                                                                  <span style=\"color: #ff0000; text-decoration-color: #ff0000\">│</span>\n",
       "<span style=\"color: #ff0000; text-decoration-color: #ff0000\">│</span>   <span style=\"color: #7f7f7f; text-decoration-color: #7f7f7f\"> 8 </span>                                                                                            <span style=\"color: #ff0000; text-decoration-color: #ff0000\">│</span>\n",
       "<span style=\"color: #ff0000; text-decoration-color: #ff0000\">│</span>   <span style=\"color: #7f7f7f; text-decoration-color: #7f7f7f\"> 9 # Anexa o schedule, incluindo role_arn</span>                                                      <span style=\"color: #ff0000; text-decoration-color: #ff0000\">│</span>\n",
       "<span style=\"color: #ff0000; text-decoration-color: #ff0000\">│</span>   <span style=\"color: #7f7f7f; text-decoration-color: #7f7f7f\">10 #pipeline.put_triggers(triggers=[schedule], role_arn=role)</span>                                  <span style=\"color: #ff0000; text-decoration-color: #ff0000\">│</span>\n",
       "<span style=\"color: #ff0000; text-decoration-color: #ff0000\">│</span> <span style=\"color: #800000; text-decoration-color: #800000\">❱ </span>11 <span style=\"font-weight: bold; text-decoration: underline\">pipeline.put_triggers(triggers=[], role_arn=role)</span>                                           <span style=\"color: #ff0000; text-decoration-color: #ff0000\">│</span>\n",
       "<span style=\"color: #ff0000; text-decoration-color: #ff0000\">│</span>   <span style=\"color: #7f7f7f; text-decoration-color: #7f7f7f\">12 </span><span style=\"color: #00ffff; text-decoration-color: #00ffff\">print</span>(<span style=\"color: #808000; text-decoration-color: #808000\">f\"✅ Agendamento '{</span>schedule.name<span style=\"color: #808000; text-decoration-color: #808000\">}' definido: cron({</span>cron_body<span style=\"color: #808000; text-decoration-color: #808000\">})\"</span>)                      <span style=\"color: #ff0000; text-decoration-color: #ff0000\">│</span>\n",
       "<span style=\"color: #ff0000; text-decoration-color: #ff0000\">│</span>   <span style=\"color: #7f7f7f; text-decoration-color: #7f7f7f\">13 </span>                                                                                            <span style=\"color: #ff0000; text-decoration-color: #ff0000\">│</span>\n",
       "<span style=\"color: #ff0000; text-decoration-color: #ff0000\">│</span>                                                                                                  <span style=\"color: #ff0000; text-decoration-color: #ff0000\">│</span>\n",
       "<span style=\"color: #ff0000; text-decoration-color: #ff0000\">│</span> <span style=\"color: #7f7f7f; text-decoration-color: #7f7f7f\">/opt/conda/lib/python3.12/site-packages/sagemaker/workflow/</span><span style=\"font-weight: bold\">pipeline.py</span>:572 in put_triggers       <span style=\"color: #ff0000; text-decoration-color: #ff0000\">│</span>\n",
       "<span style=\"color: #ff0000; text-decoration-color: #ff0000\">│</span>                                                                                                  <span style=\"color: #ff0000; text-decoration-color: #ff0000\">│</span>\n",
       "<span style=\"color: #ff0000; text-decoration-color: #ff0000\">│</span>   <span style=\"color: #7f7f7f; text-decoration-color: #7f7f7f\"> 569 </span><span style=\"color: #7f7f7f; text-decoration-color: #7f7f7f\">│   │   │   </span><span style=\"color: #7f7f7f; text-decoration-color: #7f7f7f\"># after fetching the config.</span>                                                  <span style=\"color: #ff0000; text-decoration-color: #ff0000\">│</span>\n",
       "<span style=\"color: #ff0000; text-decoration-color: #ff0000\">│</span>   <span style=\"color: #7f7f7f; text-decoration-color: #7f7f7f\"> 570 </span><span style=\"color: #7f7f7f; text-decoration-color: #7f7f7f\">│   │   │   </span><span style=\"color: #0000ff; text-decoration-color: #0000ff\">raise</span> <span style=\"color: #00ffff; text-decoration-color: #00ffff\">ValueError</span>(<span style=\"color: #808000; text-decoration-color: #808000\">\"An AWS IAM role is required to create triggers for a pipel</span>  <span style=\"color: #ff0000; text-decoration-color: #ff0000\">│</span>\n",
       "<span style=\"color: #ff0000; text-decoration-color: #ff0000\">│</span>   <span style=\"color: #7f7f7f; text-decoration-color: #7f7f7f\"> 571 </span><span style=\"color: #7f7f7f; text-decoration-color: #7f7f7f\">│   │   </span><span style=\"color: #0000ff; text-decoration-color: #0000ff\">if</span> <span style=\"color: #ff00ff; text-decoration-color: #ff00ff\">not</span> triggers:                                                                  <span style=\"color: #ff0000; text-decoration-color: #ff0000\">│</span>\n",
       "<span style=\"color: #ff0000; text-decoration-color: #ff0000\">│</span> <span style=\"color: #800000; text-decoration-color: #800000\">❱ </span> 572 <span style=\"color: #7f7f7f; text-decoration-color: #7f7f7f\">│   │   │   </span><span style=\"color: #0000ff; text-decoration-color: #0000ff; font-weight: bold; text-decoration: underline\">raise</span><span style=\"font-weight: bold; text-decoration: underline\"> </span><span style=\"color: #00ffff; text-decoration-color: #00ffff; font-weight: bold; text-decoration: underline\">TypeError</span><span style=\"font-weight: bold; text-decoration: underline\">(</span>                                                              <span style=\"color: #ff0000; text-decoration-color: #ff0000\">│</span>\n",
       "<span style=\"color: #ff0000; text-decoration-color: #ff0000\">│</span>   <span style=\"color: #7f7f7f; text-decoration-color: #7f7f7f\"> 573 </span><span style=\"color: #7f7f7f; text-decoration-color: #7f7f7f\">│   │   │   │   </span><span style=\"color: #808000; text-decoration-color: #808000; font-weight: bold; text-decoration: underline\">\"No Triggers provided. Please specify at least one to setup pipeline tri</span>  <span style=\"color: #ff0000; text-decoration-color: #ff0000\">│</span>\n",
       "<span style=\"color: #ff0000; text-decoration-color: #ff0000\">│</span>   <span style=\"color: #7f7f7f; text-decoration-color: #7f7f7f\"> 574 </span><span style=\"color: #7f7f7f; text-decoration-color: #7f7f7f\">│   │   │   </span><span style=\"font-weight: bold; text-decoration: underline\">)</span>                                                                             <span style=\"color: #ff0000; text-decoration-color: #ff0000\">│</span>\n",
       "<span style=\"color: #ff0000; text-decoration-color: #ff0000\">│</span>   <span style=\"color: #7f7f7f; text-decoration-color: #7f7f7f\"> 575 </span>                                                                                          <span style=\"color: #ff0000; text-decoration-color: #ff0000\">│</span>\n",
       "<span style=\"color: #ff0000; text-decoration-color: #ff0000\">╰──────────────────────────────────────────────────────────────────────────────────────────────────╯</span>\n",
       "<span style=\"color: #ff0000; text-decoration-color: #ff0000; font-weight: bold\">TypeError: </span>No Triggers provided. Please specify at least one to setup pipeline triggers.\n",
       "</pre>\n"
      ],
      "text/plain": [
       "\u001b[38;2;255;0;0m╭─\u001b[0m\u001b[38;2;255;0;0m──────────────────────────────\u001b[0m\u001b[38;2;255;0;0m \u001b[0m\u001b[1;38;2;255;0;0mTraceback \u001b[0m\u001b[1;2;38;2;255;0;0m(most recent call last)\u001b[0m\u001b[38;2;255;0;0m \u001b[0m\u001b[38;2;255;0;0m───────────────────────────────\u001b[0m\u001b[38;2;255;0;0m─╮\u001b[0m\n",
       "\u001b[38;2;255;0;0m│\u001b[0m in <module>:11                                                                                   \u001b[38;2;255;0;0m│\u001b[0m\n",
       "\u001b[38;2;255;0;0m│\u001b[0m                                                                                                  \u001b[38;2;255;0;0m│\u001b[0m\n",
       "\u001b[38;2;255;0;0m│\u001b[0m   \u001b[2m 8 \u001b[0m                                                                                            \u001b[38;2;255;0;0m│\u001b[0m\n",
       "\u001b[38;2;255;0;0m│\u001b[0m   \u001b[2m 9 \u001b[0m\u001b[2m# Anexa o schedule, incluindo role_arn\u001b[0m                                                      \u001b[38;2;255;0;0m│\u001b[0m\n",
       "\u001b[38;2;255;0;0m│\u001b[0m   \u001b[2m10 \u001b[0m\u001b[2m#pipeline.put_triggers(triggers=[schedule], role_arn=role)\u001b[0m                                  \u001b[38;2;255;0;0m│\u001b[0m\n",
       "\u001b[38;2;255;0;0m│\u001b[0m \u001b[31m❱ \u001b[0m11 \u001b[1;4mpipeline.put_triggers(triggers=[], role_arn=role)\u001b[0m                                           \u001b[38;2;255;0;0m│\u001b[0m\n",
       "\u001b[38;2;255;0;0m│\u001b[0m   \u001b[2m12 \u001b[0m\u001b[96mprint\u001b[0m(\u001b[33mf\u001b[0m\u001b[33m\"\u001b[0m\u001b[33m✅ Agendamento \u001b[0m\u001b[33m'\u001b[0m\u001b[33m{\u001b[0mschedule.name\u001b[33m}\u001b[0m\u001b[33m'\u001b[0m\u001b[33m definido: cron(\u001b[0m\u001b[33m{\u001b[0mcron_body\u001b[33m}\u001b[0m\u001b[33m)\u001b[0m\u001b[33m\"\u001b[0m)                      \u001b[38;2;255;0;0m│\u001b[0m\n",
       "\u001b[38;2;255;0;0m│\u001b[0m   \u001b[2m13 \u001b[0m                                                                                            \u001b[38;2;255;0;0m│\u001b[0m\n",
       "\u001b[38;2;255;0;0m│\u001b[0m                                                                                                  \u001b[38;2;255;0;0m│\u001b[0m\n",
       "\u001b[38;2;255;0;0m│\u001b[0m \u001b[2m/opt/conda/lib/python3.12/site-packages/sagemaker/workflow/\u001b[0m\u001b[1mpipeline.py\u001b[0m:572 in put_triggers       \u001b[38;2;255;0;0m│\u001b[0m\n",
       "\u001b[38;2;255;0;0m│\u001b[0m                                                                                                  \u001b[38;2;255;0;0m│\u001b[0m\n",
       "\u001b[38;2;255;0;0m│\u001b[0m   \u001b[2m 569 \u001b[0m\u001b[2m│   │   │   \u001b[0m\u001b[2m# after fetching the config.\u001b[0m                                                  \u001b[38;2;255;0;0m│\u001b[0m\n",
       "\u001b[38;2;255;0;0m│\u001b[0m   \u001b[2m 570 \u001b[0m\u001b[2m│   │   │   \u001b[0m\u001b[94mraise\u001b[0m \u001b[96mValueError\u001b[0m(\u001b[33m\"\u001b[0m\u001b[33mAn AWS IAM role is required to create triggers for a pipel\u001b[0m  \u001b[38;2;255;0;0m│\u001b[0m\n",
       "\u001b[38;2;255;0;0m│\u001b[0m   \u001b[2m 571 \u001b[0m\u001b[2m│   │   \u001b[0m\u001b[94mif\u001b[0m \u001b[95mnot\u001b[0m triggers:                                                                  \u001b[38;2;255;0;0m│\u001b[0m\n",
       "\u001b[38;2;255;0;0m│\u001b[0m \u001b[31m❱ \u001b[0m 572 \u001b[2m│   │   │   \u001b[0m\u001b[1;4;94mraise\u001b[0m\u001b[1;4m \u001b[0m\u001b[1;4;96mTypeError\u001b[0m\u001b[1;4m(\u001b[0m                                                              \u001b[38;2;255;0;0m│\u001b[0m\n",
       "\u001b[38;2;255;0;0m│\u001b[0m   \u001b[2m 573 \u001b[0m\u001b[2m│   │   │   │   \u001b[0m\u001b[1;4;33m\"\u001b[0m\u001b[1;4;33mNo Triggers provided. Please specify at least one to setup pipeline tri\u001b[0m  \u001b[38;2;255;0;0m│\u001b[0m\n",
       "\u001b[38;2;255;0;0m│\u001b[0m   \u001b[2m 574 \u001b[0m\u001b[2m│   │   │   \u001b[0m\u001b[1;4m)\u001b[0m                                                                             \u001b[38;2;255;0;0m│\u001b[0m\n",
       "\u001b[38;2;255;0;0m│\u001b[0m   \u001b[2m 575 \u001b[0m                                                                                          \u001b[38;2;255;0;0m│\u001b[0m\n",
       "\u001b[38;2;255;0;0m╰──────────────────────────────────────────────────────────────────────────────────────────────────╯\u001b[0m\n",
       "\u001b[1;91mTypeError: \u001b[0mNo Triggers provided. Please specify at least one to setup pipeline triggers.\n"
      ]
     },
     "metadata": {},
     "output_type": "display_data"
    }
   ],
   "source": [
    "# 6) Agendamento com PipelineSchedule (agora incluindo role_arn)\n",
    "#cron_body = \"0 6 * * ? *\" \n",
    "cron_body = \"0/1 * * * ? *\"\n",
    "schedule = PipelineSchedule(\n",
    "    name=\"DailyProcessarExperimentosSchedule\",\n",
    "    cron=cron_body\n",
    ")\n",
    "\n",
    "# Anexa o schedule, incluindo role_arn\n",
    "#pipeline.put_triggers(triggers=[schedule], role_arn=role)\n",
    "pipeline.put_triggers(triggers=[], role_arn=role)\n",
    "print(f\"✅ Agendamento '{schedule.name}' definido: cron({cron_body})\")"
   ]
  },
  {
   "cell_type": "code",
   "execution_count": null,
   "id": "06d98b3d-5958-4469-bcaa-58ea4114885c",
   "metadata": {},
   "outputs": [],
   "source": []
  }
 ],
 "metadata": {
  "kernelspec": {
   "display_name": "Python 3 (ipykernel)",
   "language": "python",
   "name": "python3"
  },
  "language_info": {
   "codemirror_mode": {
    "name": "ipython",
    "version": 3
   },
   "file_extension": ".py",
   "mimetype": "text/x-python",
   "name": "python",
   "nbconvert_exporter": "python",
   "pygments_lexer": "ipython3",
   "version": "3.12.9"
  }
 },
 "nbformat": 4,
 "nbformat_minor": 5
}
