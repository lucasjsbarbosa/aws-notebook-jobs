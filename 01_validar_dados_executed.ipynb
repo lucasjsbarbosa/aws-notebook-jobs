{
 "cells": [
  {
   "cell_type": "code",
   "execution_count": 1,
   "id": "f5e361f7-b71a-4950-91f2-c7190e814ec7",
   "metadata": {
    "editable": true,
    "execution": {
     "iopub.execute_input": "2025-07-18T13:33:21.071126Z",
     "iopub.status.busy": "2025-07-18T13:33:21.070782Z",
     "iopub.status.idle": "2025-07-18T13:33:21.645625Z",
     "shell.execute_reply": "2025-07-18T13:33:21.644935Z"
    },
    "slideshow": {
     "slide_type": ""
    },
    "tags": []
   },
   "outputs": [],
   "source": [
    "import boto3\n",
    "import pandas as pd\n",
    "import json\n",
    "import os\n",
    "from datetime import datetime"
   ]
  },
  {
   "cell_type": "code",
   "execution_count": 2,
   "id": "1cbf4d82-7129-48b0-90e1-f23166c94e27",
   "metadata": {
    "editable": true,
    "execution": {
     "iopub.execute_input": "2025-07-18T13:33:21.648494Z",
     "iopub.status.busy": "2025-07-18T13:33:21.648040Z",
     "iopub.status.idle": "2025-07-18T13:33:21.652671Z",
     "shell.execute_reply": "2025-07-18T13:33:21.651993Z"
    },
    "slideshow": {
     "slide_type": ""
    },
    "tags": []
   },
   "outputs": [
    {
     "name": "stdout",
     "output_type": "stream",
     "text": [
      "Início da validação: 2025-07-18 13:33:21.649392\n"
     ]
    }
   ],
   "source": [
    "print(f\"Início da validação: {datetime.now()}\")"
   ]
  },
  {
   "cell_type": "code",
   "execution_count": 3,
   "id": "b714844a-16bb-4de8-b6a1-318d7d1798ab",
   "metadata": {
    "editable": true,
    "execution": {
     "iopub.execute_input": "2025-07-18T13:33:21.655177Z",
     "iopub.status.busy": "2025-07-18T13:33:21.654792Z",
     "iopub.status.idle": "2025-07-18T13:33:21.660338Z",
     "shell.execute_reply": "2025-07-18T13:33:21.659257Z"
    },
    "slideshow": {
     "slide_type": ""
    },
    "tags": []
   },
   "outputs": [
    {
     "name": "stdout",
     "output_type": "stream",
     "text": [
      "Configurações carregadas:\n",
      "  Bucket: experimento-lucas-barbosa\n",
      "  Pasta raw: raw/\n"
     ]
    }
   ],
   "source": [
    "#Carregar configurações\n",
    "describe = \"Carrega config.json gerado pelo 00_config.ipynb\"\n",
    "with open('config.json') as f:\n",
    "    config = json.load(f)\n",
    "\n",
    "BUCKET_NAME = config['bucket_name']\n",
    "PASTA_RAW    = config['pasta_raw']\n",
    "COLUNAS_OBRIGATORIAS = config['colunas_obrigatorias']\n",
    "GRUPO_CONTROLE       = config['grupo_controle']\n",
    "\n",
    "print(\"Configurações carregadas:\")\n",
    "print(f\"  Bucket: {BUCKET_NAME}\")\n",
    "print(f\"  Pasta raw: {PASTA_RAW}\")"
   ]
  },
  {
   "cell_type": "code",
   "execution_count": 4,
   "id": "7572bda0-321b-43b7-9636-d1b95ef54c78",
   "metadata": {
    "editable": true,
    "execution": {
     "iopub.execute_input": "2025-07-18T13:33:21.662617Z",
     "iopub.status.busy": "2025-07-18T13:33:21.662276Z",
     "iopub.status.idle": "2025-07-18T13:33:21.859900Z",
     "shell.execute_reply": "2025-07-18T13:33:21.858928Z"
    },
    "slideshow": {
     "slide_type": ""
    },
    "tags": []
   },
   "outputs": [
    {
     "name": "stdout",
     "output_type": "stream",
     "text": [
      "Novos arquivos a validar: 1\n"
     ]
    }
   ],
   "source": [
    "# Conectar ao S3 e listar arquivos\n",
    "\n",
    "describe = \"Lista arquivos CSV em raw/\"\n",
    "s3 = boto3.client('s3')\n",
    "response = s3.list_objects_v2(Bucket=BUCKET_NAME, Prefix=PASTA_RAW)\n",
    "arquivos_novos = []\n",
    "arquivos_processados = []\n",
    "\n",
    "if 'Contents' in response:\n",
    "    for obj in response['Contents']:\n",
    "        key = obj['Key']\n",
    "        if key.endswith('.csv') and key != PASTA_RAW:\n",
    "            nome = key.split('/')[-1]\n",
    "            head_key = f\"{config['pasta_processed']}metricas_{nome}\"\n",
    "            try:\n",
    "                s3.head_object(Bucket=BUCKET_NAME, Key=head_key)\n",
    "                arquivos_processados.append(nome)\n",
    "            except:\n",
    "                arquivos_novos.append(key)\n",
    "\n",
    "print(f\"Novos arquivos a validar: {len(arquivos_novos)}\")\n"
   ]
  },
  {
   "cell_type": "code",
   "execution_count": 5,
   "id": "1493cdc0-38ee-4acd-9a07-5735ae551380",
   "metadata": {
    "editable": true,
    "execution": {
     "iopub.execute_input": "2025-07-18T13:33:21.862839Z",
     "iopub.status.busy": "2025-07-18T13:33:21.862464Z",
     "iopub.status.idle": "2025-07-18T13:33:21.868724Z",
     "shell.execute_reply": "2025-07-18T13:33:21.867944Z"
    },
    "slideshow": {
     "slide_type": ""
    },
    "tags": []
   },
   "outputs": [],
   "source": [
    "# Função de validação\n",
    "def validar_arquivo(df, nome):\n",
    "    erros=[]\n",
    "    faltam=set(COLUNAS_OBRIGATORIAS)-set(df.columns)\n",
    "    if faltam: erros.append(f\"Colunas faltando: {faltam}\")\n",
    "    if GRUPO_CONTROLE not in df['grupo'].values:\n",
    "        erros.append(f\"Grupo controle '{GRUPO_CONTROLE}' não encontrado\")\n",
    "    if (df['uso']<0).any(): erros.append(\"Uso negativo\")\n",
    "    if (df['valor']<0).any(): erros.append(\"Valor negativo\")\n",
    "    try:\n",
    "        df['uso']=pd.to_numeric(df['uso'])\n",
    "        df['valor']=pd.to_numeric(df['valor'])\n",
    "    except:\n",
    "        erros.append(\"Campos não numéricos\")\n",
    "    return (len(erros)==0), erros"
   ]
  },
  {
   "cell_type": "code",
   "execution_count": 6,
   "id": "671deea9-63b4-4240-aab3-721136487b82",
   "metadata": {
    "editable": true,
    "execution": {
     "iopub.execute_input": "2025-07-18T13:33:21.872787Z",
     "iopub.status.busy": "2025-07-18T13:33:21.872461Z",
     "iopub.status.idle": "2025-07-18T13:33:21.912732Z",
     "shell.execute_reply": "2025-07-18T13:33:21.911919Z"
    },
    "slideshow": {
     "slide_type": ""
    },
    "tags": []
   },
   "outputs": [
    {
     "name": "stdout",
     "output_type": "stream",
     "text": [
      "\n",
      "Validando experimento_teste_2.csv\n",
      "✗ experimento_teste_2.csv inválido: [\"Colunas faltando: {'id_experimento'}\"]\n",
      "\n",
      "Resumo: 0 válidos, 1 inválidos\n"
     ]
    }
   ],
   "source": [
    "# Validar e salvar resultado\n",
    "resultado={\n",
    "    'timestamp': datetime.now().isoformat(),\n",
    "    'arquivos_validos': [],\n",
    "    'arquivos_invalidos': []\n",
    "}\n",
    "for key in arquivos_novos:\n",
    "    nome=key.split('/')[-1]\n",
    "    print(f\"\\nValidando {nome}\")\n",
    "    df=pd.read_csv(s3.get_object(Bucket=BUCKET_NAME,Key=key)['Body'])\n",
    "    valido,erros=validar_arquivo(df,nome)\n",
    "    if valido:\n",
    "        tmp_dir='/tmp/processing/temp'; os.makedirs(tmp_dir,exist_ok=True)\n",
    "        caminho_tmp=f\"{tmp_dir}/{nome}\"\n",
    "        df.to_csv(caminho_tmp,index=False)\n",
    "        resultado['arquivos_validos'].append({'key':key,'nome':nome})\n",
    "        print(f\"✓ {nome} válido – salvo em {caminho_tmp}\")\n",
    "    else:\n",
    "        resultado['arquivos_invalidos'].append({'key':key,'nome':nome,'erros':erros})\n",
    "        print(f\"✗ {nome} inválido: {erros}\")\n",
    "with open('validacao_resultado.json','w') as f:\n",
    "    json.dump(resultado,f,indent=2)\n",
    "print(f\"\\nResumo: {len(resultado['arquivos_validos'])} válidos, {len(resultado['arquivos_invalidos'])} inválidos\")"
   ]
  },
  {
   "cell_type": "code",
   "execution_count": null,
   "id": "664b5833-68d8-47aa-b64b-e8c29a1236ef",
   "metadata": {
    "editable": true,
    "slideshow": {
     "slide_type": ""
    },
    "tags": []
   },
   "outputs": [],
   "source": []
  }
 ],
 "metadata": {
  "kernelspec": {
   "display_name": "Python 3 (ipykernel)",
   "language": "python",
   "name": "python3"
  },
  "language_info": {
   "codemirror_mode": {
    "name": "ipython",
    "version": 3
   },
   "file_extension": ".py",
   "mimetype": "text/x-python",
   "name": "python",
   "nbconvert_exporter": "python",
   "pygments_lexer": "ipython3",
   "version": "3.12.9"
  }
 },
 "nbformat": 4,
 "nbformat_minor": 5
}
