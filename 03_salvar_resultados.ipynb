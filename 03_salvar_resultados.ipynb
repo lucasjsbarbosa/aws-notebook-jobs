{
 "cells": [
  {
   "cell_type": "code",
   "execution_count": 1,
   "id": "1225c26e-bbaf-4b90-874d-1ac99d667a1d",
   "metadata": {
    "editable": true,
    "execution": {
     "iopub.execute_input": "2025-07-21T18:40:29.135786Z",
     "iopub.status.busy": "2025-07-21T18:40:29.135465Z",
     "iopub.status.idle": "2025-07-21T18:40:29.138709Z",
     "shell.execute_reply": "2025-07-21T18:40:29.138168Z",
     "shell.execute_reply.started": "2025-07-21T18:40:29.135758Z"
    },
    "slideshow": {
     "slide_type": ""
    },
    "tags": [
     "parameters"
    ]
   },
   "outputs": [],
   "source": [
    "# Parâmetros do pipeline (serão sobrescritos pelo SageMaker)\n",
    "bucket_name = 'experimento-lucas-barbosa'\n",
    "input_config_path = 'config.json'\n",
    "input_metricas_path = 'metricas_completas.csv'\n",
    "pasta_logs = 'logs/'\n",
    "pasta_processed = 'processed/'"
   ]
  },
  {
   "cell_type": "code",
   "execution_count": 2,
   "id": "c3ef0ed5-cd32-431c-b975-4d8f5dc68aef",
   "metadata": {
    "editable": true,
    "execution": {
     "iopub.execute_input": "2025-07-21T18:40:29.140047Z",
     "iopub.status.busy": "2025-07-21T18:40:29.139732Z",
     "iopub.status.idle": "2025-07-21T18:40:29.728956Z",
     "shell.execute_reply": "2025-07-21T18:40:29.728090Z",
     "shell.execute_reply.started": "2025-07-21T18:40:29.140024Z"
    },
    "slideshow": {
     "slide_type": ""
    },
    "tags": []
   },
   "outputs": [],
   "source": [
    "import pandas as pd\n",
    "import boto3\n",
    "import json\n",
    "import os\n",
    "from datetime import datetime"
   ]
  },
  {
   "cell_type": "code",
   "execution_count": 3,
   "id": "d3c4640d-5bf0-4fd9-b61f-13b412256cd3",
   "metadata": {
    "editable": true,
    "execution": {
     "iopub.execute_input": "2025-07-21T18:40:29.731217Z",
     "iopub.status.busy": "2025-07-21T18:40:29.730208Z",
     "iopub.status.idle": "2025-07-21T18:40:29.736495Z",
     "shell.execute_reply": "2025-07-21T18:40:29.735817Z",
     "shell.execute_reply.started": "2025-07-21T18:40:29.731180Z"
    },
    "slideshow": {
     "slide_type": ""
    },
    "tags": []
   },
   "outputs": [
    {
     "name": "stdout",
     "output_type": "stream",
     "text": [
      "Início do salvamento: 2025-07-21 18:40:29.733364\n",
      "Parâmetros recebidos:\n",
      "  bucket_name: experimento-lucas-barbosa\n",
      "  input_config_path: config.json\n",
      "  input_metricas_path: metricas_completas.csv\n",
      "  pasta_logs: logs/\n",
      "  pasta_processed: processed/\n"
     ]
    }
   ],
   "source": [
    "print(f\"Início do salvamento: {datetime.now()}\")\n",
    "print(f\"Parâmetros recebidos:\")\n",
    "print(f\"  bucket_name: {bucket_name}\")\n",
    "print(f\"  input_config_path: {input_config_path}\")\n",
    "print(f\"  input_metricas_path: {input_metricas_path}\")\n",
    "print(f\"  pasta_logs: {pasta_logs}\")\n",
    "print(f\"  pasta_processed: {pasta_processed}\")"
   ]
  },
  {
   "cell_type": "code",
   "execution_count": 4,
   "id": "241a6b38-84cb-4992-88b2-361ddb8f45d1",
   "metadata": {
    "execution": {
     "iopub.execute_input": "2025-07-21T18:40:29.738024Z",
     "iopub.status.busy": "2025-07-21T18:40:29.737711Z",
     "iopub.status.idle": "2025-07-21T18:40:29.983699Z",
     "shell.execute_reply": "2025-07-21T18:40:29.982740Z",
     "shell.execute_reply.started": "2025-07-21T18:40:29.737997Z"
    }
   },
   "outputs": [
    {
     "name": "stdout",
     "output_type": "stream",
     "text": [
      "✓ Arquivos baixados com sucesso!\n"
     ]
    }
   ],
   "source": [
    "# Baixar arquivos do S3\n",
    "s3 = boto3.client('s3')\n",
    "\n",
    "s3.download_file(bucket_name, 'config/config.json', 'config.json')\n",
    "s3.download_file(bucket_name, 'processed/metricas_completas.csv', 'metricas_completas.csv')\n",
    "\n",
    "print('✓ Arquivos baixados com sucesso!')"
   ]
  },
  {
   "cell_type": "code",
   "execution_count": 5,
   "id": "278817fa-cca7-4708-94e9-04cba1b67794",
   "metadata": {
    "editable": true,
    "execution": {
     "iopub.execute_input": "2025-07-21T18:40:29.984729Z",
     "iopub.status.busy": "2025-07-21T18:40:29.984495Z",
     "iopub.status.idle": "2025-07-21T18:40:29.993988Z",
     "shell.execute_reply": "2025-07-21T18:40:29.993123Z",
     "shell.execute_reply.started": "2025-07-21T18:40:29.984708Z"
    },
    "slideshow": {
     "slide_type": ""
    },
    "tags": []
   },
   "outputs": [
    {
     "name": "stdout",
     "output_type": "stream",
     "text": [
      "Configurações carregadas:\n",
      "  Bucket: experimento-lucas-barbosa\n",
      "  Pasta raw: raw/\n",
      "  Pasta processed: processed/\n",
      "  Pasta archive: archive/\n",
      "  Pasta error: raw/error/\n",
      "  Pasta logs: logs/\n"
     ]
    }
   ],
   "source": [
    "# Carregar configurações\n",
    "with open('config.json') as f:\n",
    "    config = json.load(f)\n",
    "\n",
    "# Definir paths\n",
    "BUCKET = bucket_name\n",
    "RAW_PREF = config['pasta_raw']\n",
    "PROC_PREF = pasta_processed\n",
    "ARCH_PREF = config['pasta_archive']\n",
    "ERROR_PREF = config.get('pasta_error', 'raw/error/')\n",
    "LOGS_PREF = pasta_logs\n",
    "\n",
    "print('Configurações carregadas:')\n",
    "print(f'  Bucket: {BUCKET}')\n",
    "print(f'  Pasta raw: {RAW_PREF}')\n",
    "print(f'  Pasta processed: {PROC_PREF}')\n",
    "print(f'  Pasta archive: {ARCH_PREF}')\n",
    "print(f'  Pasta error: {ERROR_PREF}')\n",
    "print(f'  Pasta logs: {LOGS_PREF}')"
   ]
  },
  {
   "cell_type": "code",
   "execution_count": 6,
   "id": "aa44e577-1379-4b88-b7bc-8d7ecbfd38a7",
   "metadata": {
    "editable": true,
    "execution": {
     "iopub.execute_input": "2025-07-21T18:40:29.996916Z",
     "iopub.status.busy": "2025-07-21T18:40:29.996369Z",
     "iopub.status.idle": "2025-07-21T18:40:30.264188Z",
     "shell.execute_reply": "2025-07-21T18:40:30.263025Z",
     "shell.execute_reply.started": "2025-07-21T18:40:29.996889Z"
    },
    "slideshow": {
     "slide_type": ""
    },
    "tags": []
   },
   "outputs": [
    {
     "name": "stdout",
     "output_type": "stream",
     "text": [
      "✓ Métricas carregadas: 0 linhas\n",
      "  Colunas: ['id_experimento', 'grupo', 'metrica', 'valor', 'timestamp', 'arquivo_origem']\n"
     ]
    },
    {
     "ename": "ValueError",
     "evalue": "Arquivo de métricas está vazio",
     "output_type": "error",
     "traceback": [
      "\u001b[0;31m---------------------------------------------------------------------------\u001b[0m",
      "\u001b[0;31mValueError\u001b[0m                                Traceback (most recent call last)",
      "Cell \u001b[0;32mIn[6], line 7\u001b[0m\n\u001b[1;32m      4\u001b[0m \u001b[38;5;28mprint\u001b[39m(\u001b[38;5;124mf\u001b[39m\u001b[38;5;124m'\u001b[39m\u001b[38;5;124m  Colunas: \u001b[39m\u001b[38;5;132;01m{\u001b[39;00m\u001b[38;5;28mlist\u001b[39m(df_meta\u001b[38;5;241m.\u001b[39mcolumns)\u001b[38;5;132;01m}\u001b[39;00m\u001b[38;5;124m'\u001b[39m)\n\u001b[1;32m      6\u001b[0m \u001b[38;5;28;01mif\u001b[39;00m \u001b[38;5;28mlen\u001b[39m(df_meta) \u001b[38;5;241m==\u001b[39m \u001b[38;5;241m0\u001b[39m:\n\u001b[0;32m----> 7\u001b[0m     \u001b[38;5;28;01mraise\u001b[39;00m \u001b[38;5;167;01mValueError\u001b[39;00m(\u001b[38;5;124m'\u001b[39m\u001b[38;5;124mArquivo de métricas está vazio\u001b[39m\u001b[38;5;124m'\u001b[39m)\n\u001b[1;32m      9\u001b[0m \u001b[38;5;66;03m# Obter lista de arquivos processados com sucesso\u001b[39;00m\n\u001b[1;32m     10\u001b[0m arquivos_processados \u001b[38;5;241m=\u001b[39m df_meta[\u001b[38;5;124m'\u001b[39m\u001b[38;5;124marquivo_origem\u001b[39m\u001b[38;5;124m'\u001b[39m]\u001b[38;5;241m.\u001b[39munique()\u001b[38;5;241m.\u001b[39mtolist()\n",
      "\u001b[0;31mValueError\u001b[0m: Arquivo de métricas está vazio"
     ]
    }
   ],
   "source": [
    "# Carregar métricas completas\n",
    "df_meta = pd.read_csv('metricas_completas.csv')\n",
    "print(f'✓ Métricas carregadas: {len(df_meta)} linhas')\n",
    "print(f'  Colunas: {list(df_meta.columns)}')\n",
    "\n",
    "if len(df_meta) == 0:\n",
    "    raise ValueError('Arquivo de métricas está vazio')\n",
    "\n",
    "# Obter lista de arquivos processados com sucesso\n",
    "arquivos_processados = df_meta['arquivo_origem'].unique().tolist()\n",
    "print(f'  Arquivos processados com sucesso: {len(arquivos_processados)}')\n",
    "print(f'  Lista: {arquivos_processados}')"
   ]
  },
  {
   "cell_type": "code",
   "execution_count": null,
   "id": "ffb16205-3467-4f92-b3bf-8ff78ed5cd00",
   "metadata": {
    "editable": true,
    "execution": {
     "iopub.status.busy": "2025-07-21T18:40:30.265138Z",
     "iopub.status.idle": "2025-07-21T18:40:30.265415Z",
     "shell.execute_reply": "2025-07-21T18:40:30.265308Z",
     "shell.execute_reply.started": "2025-07-21T18:40:30.265296Z"
    },
    "slideshow": {
     "slide_type": ""
    },
    "tags": []
   },
   "outputs": [],
   "source": [
    "# Preparar upload\n",
    "id_experimento = df_meta['id_experimento'].iloc[0]\n",
    "timestamp = datetime.now().strftime('%Y%m%d_%H%M%S')\n",
    "nome_meta = f'{id_experimento}_metricas_{timestamp}.csv'\n",
    "key_meta = f'{PROC_PREF}{nome_meta}'\n",
    "print(f'Arquivo de saída: {nome_meta}')\n",
    "print(f'Chave S3: {key_meta}')"
   ]
  },
  {
   "cell_type": "code",
   "execution_count": null,
   "id": "e2e7af65-69ca-4be4-9a9f-866741ad0364",
   "metadata": {
    "execution": {
     "iopub.status.busy": "2025-07-21T18:40:30.266508Z",
     "iopub.status.idle": "2025-07-21T18:40:30.267074Z",
     "shell.execute_reply": "2025-07-21T18:40:30.266956Z",
     "shell.execute_reply.started": "2025-07-21T18:40:30.266942Z"
    }
   },
   "outputs": [],
   "source": [
    "# Salvar métricas finais na pasta processed/\n",
    "df_meta.to_csv(f'/tmp/{nome_meta}', index=False)\n",
    "s3.upload_file(f'/tmp/{nome_meta}', BUCKET, key_meta)\n",
    "print(f'✓ Métricas enviadas para s3://{BUCKET}/{key_meta}')"
   ]
  },
  {
   "cell_type": "code",
   "execution_count": null,
   "id": "59e5835e-2fa2-40f1-bc39-e14436a3825f",
   "metadata": {
    "execution": {
     "iopub.status.busy": "2025-07-21T18:40:30.267605Z",
     "iopub.status.idle": "2025-07-21T18:40:30.268207Z",
     "shell.execute_reply": "2025-07-21T18:40:30.268091Z",
     "shell.execute_reply.started": "2025-07-21T18:40:30.268079Z"
    }
   },
   "outputs": [],
   "source": [
    "# Classificar e mover arquivos\n",
    "print('\\n🗂️ Classificando e movendo arquivos...')\n",
    "print(f'Arquivos que foram processados com sucesso: {arquivos_processados}')\n",
    "\n",
    "# Listar arquivos na pasta raw/\n",
    "response = s3.list_objects_v2(Bucket=BUCKET, Prefix=RAW_PREF)\n",
    "arquivos_movidos = []\n",
    "arquivos_com_erro = []\n",
    "\n",
    "# Verificar se existem arquivos\n",
    "if 'Contents' in response and len(response['Contents']) > 0:\n",
    "    print(f'Encontrados {len(response[\"Contents\"])} objetos na pasta raw/')\n",
    "    \n",
    "    for obj in response['Contents']:\n",
    "        arquivo_key = obj['Key']\n",
    "        \n",
    "        # Pular pastas e arquivos já em subpastas\n",
    "        if arquivo_key.endswith('/') or arquivo_key == RAW_PREF or 'error/' in arquivo_key:\n",
    "            print(f'  Pulando: {arquivo_key} (pasta ou já processado)')\n",
    "            continue\n",
    "            \n",
    "        # Extrair nome do arquivo\n",
    "        nome_arquivo = arquivo_key.replace(RAW_PREF, '')\n",
    "        if not nome_arquivo:  # Se ficou vazio após replace\n",
    "            continue\n",
    "            \n",
    "        print(f'Analisando arquivo: {nome_arquivo}')\n",
    "        \n",
    "        # Verificar se foi processado com sucesso\n",
    "        if nome_arquivo in arquivos_processados:\n",
    "            # SUCESSO: Mover para archive/\n",
    "            destino_key = f\"{ARCH_PREF}{nome_arquivo.replace('.csv', f'_{timestamp}.csv')}\"\n",
    "            \n",
    "            s3.copy_object(\n",
    "                Bucket=BUCKET,\n",
    "                CopySource={'Bucket': BUCKET, 'Key': arquivo_key},\n",
    "                Key=destino_key\n",
    "            )\n",
    "            s3.delete_object(Bucket=BUCKET, Key=arquivo_key)\n",
    "            \n",
    "            arquivos_movidos.append({\n",
    "                'nome': nome_arquivo,\n",
    "                'origem': arquivo_key,\n",
    "                'destino': destino_key,\n",
    "                'status': 'processado_com_sucesso'\n",
    "            })\n",
    "            \n",
    "            print(f'  ✅ {nome_arquivo} → archive/')\n",
    "            \n",
    "        else:\n",
    "            # ERRO: Mover para raw/error/\n",
    "            destino_key = f\"{ERROR_PREF}{nome_arquivo.replace('.csv', f'_erro_{timestamp}.csv')}\"\n",
    "            \n",
    "            s3.copy_object(\n",
    "                Bucket=BUCKET,\n",
    "                CopySource={'Bucket': BUCKET, 'Key': arquivo_key},\n",
    "                Key=destino_key\n",
    "            )\n",
    "            s3.delete_object(Bucket=BUCKET, Key=arquivo_key)\n",
    "            \n",
    "            arquivos_com_erro.append({\n",
    "                'nome': nome_arquivo,\n",
    "                'origem': arquivo_key,\n",
    "                'destino': destino_key,\n",
    "                'status': 'erro_processamento',\n",
    "                'motivo': 'nao_processado_nas_metricas'\n",
    "            })\n",
    "            \n",
    "            print(f'  ❌ {nome_arquivo} → raw/error/ (não foi processado)')\n",
    "    \n",
    "    print(f'\\n📊 Resumo da movimentação:')\n",
    "    print(f'  ✅ Arquivos processados: {len(arquivos_movidos)}')\n",
    "    print(f'  ❌ Arquivos com erro: {len(arquivos_com_erro)}')\n",
    "    \n",
    "else:\n",
    "    print('⚠️ Pasta raw/ está vazia - nenhum arquivo para processar')\n",
    "    print('   Isso é normal se todos os arquivos já foram processados anteriormente')\n",
    "    arquivos_movidos = []\n",
    "    arquivos_com_erro = []"
   ]
  },
  {
   "cell_type": "code",
   "execution_count": null,
   "id": "4117ee4e-499e-4e51-846c-549b1d473b06",
   "metadata": {
    "execution": {
     "iopub.status.busy": "2025-07-21T18:40:30.269151Z",
     "iopub.status.idle": "2025-07-21T18:40:30.269425Z",
     "shell.execute_reply": "2025-07-21T18:40:30.269324Z",
     "shell.execute_reply.started": "2025-07-21T18:40:30.269314Z"
    }
   },
   "outputs": [],
   "source": [
    "# Salvar log detalhado\n",
    "log = {\n",
    "    'timestamp': datetime.now().isoformat(),\n",
    "    'id_experimento': id_experimento,\n",
    "    'metrics_key': key_meta,\n",
    "    'metrics_file': nome_meta,\n",
    "    'total_linhas_metricas': len(df_meta),\n",
    "    'grupos': list(df_meta['grupo'].unique()),\n",
    "    'metricas': list(df_meta['metrica'].unique()),\n",
    "    'arquivos_processados_com_sucesso': arquivos_movidos,\n",
    "    'arquivos_com_erro': arquivos_com_erro,\n",
    "    'total_arquivos_processados': len(arquivos_movidos),\n",
    "    'total_arquivos_com_erro': len(arquivos_com_erro),\n",
    "    'bucket': BUCKET,\n",
    "    'pastas': {\n",
    "        'raw': RAW_PREF,\n",
    "        'processed': PROC_PREF,\n",
    "        'archive': ARCH_PREF,\n",
    "        'error': ERROR_PREF,\n",
    "        'logs': LOGS_PREF\n",
    "    },\n",
    "    'status': 'sucesso'\n",
    "}\n",
    "log_key = f'{LOGS_PREF}processamento_{id_experimento}_{timestamp}.json'\n",
    "s3.put_object(Bucket=BUCKET, Key=log_key, Body=json.dumps(log, indent=2, ensure_ascii=False), ContentType='application/json')\n",
    "print(f'✓ Log detalhado salvo em s3://{BUCKET}/{log_key}')\n",
    "print(f'\\n🎉 Processamento concluído com sucesso!')\n",
    "print(f'   📊 Métricas salvas: {key_meta}')\n",
    "print(f'   📁 Arquivos arquivados: {len(arquivos_movidos)}')\n",
    "print(f'   ❌ Arquivos com erro: {len(arquivos_com_erro)}')\n",
    "print(f'   📝 Log criado: {log_key}')"
   ]
  },
  {
   "cell_type": "code",
   "execution_count": null,
   "id": "509f5a02-e3f6-41f8-a96b-a1210bc63a2e",
   "metadata": {},
   "outputs": [],
   "source": []
  }
 ],
 "metadata": {
  "kernelspec": {
   "display_name": "Python 3 (ipykernel)",
   "language": "python",
   "name": "python3"
  },
  "language_info": {
   "codemirror_mode": {
    "name": "ipython",
    "version": 3
   },
   "file_extension": ".py",
   "mimetype": "text/x-python",
   "name": "python",
   "nbconvert_exporter": "python",
   "pygments_lexer": "ipython3",
   "version": "3.12.9"
  }
 },
 "nbformat": 4,
 "nbformat_minor": 5
}
