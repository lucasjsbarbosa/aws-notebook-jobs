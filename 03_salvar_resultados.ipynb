{
 "cells": [
  {
   "cell_type": "code",
   "execution_count": 1,
   "id": "1225c26e-bbaf-4b90-874d-1ac99d667a1d",
   "metadata": {
    "editable": true,
    "execution": {
     "iopub.execute_input": "2025-07-20T22:09:00.396331Z",
     "iopub.status.busy": "2025-07-20T22:09:00.396087Z",
     "iopub.status.idle": "2025-07-20T22:09:00.401189Z",
     "shell.execute_reply": "2025-07-20T22:09:00.400245Z",
     "shell.execute_reply.started": "2025-07-20T22:09:00.396308Z"
    },
    "slideshow": {
     "slide_type": ""
    },
    "tags": [
     "parameters"
    ]
   },
   "outputs": [],
   "source": [
    "# Parâmetros do pipeline\n",
    "input_config_path = \"config.json\"  # Caminho do arquivo de configuração\n",
    "input_metricas_path = \"metricas_completas.csv\"  # Arquivo de métricas calculadas\n",
    "bucket_name = \"experimento-lucas-barbosa\"  # Nome do bucket S3\n",
    "pasta_processed = \"processed/\"  # Pasta para arquivos processados\n",
    "pasta_logs = \"logs/\"  # Pasta para logs de execução"
   ]
  },
  {
   "cell_type": "code",
   "execution_count": 2,
   "id": "c3ef0ed5-cd32-431c-b975-4d8f5dc68aef",
   "metadata": {
    "editable": true,
    "execution": {
     "iopub.execute_input": "2025-07-20T22:09:00.402745Z",
     "iopub.status.busy": "2025-07-20T22:09:00.402430Z",
     "iopub.status.idle": "2025-07-20T22:09:00.953405Z",
     "shell.execute_reply": "2025-07-20T22:09:00.952626Z",
     "shell.execute_reply.started": "2025-07-20T22:09:00.402711Z"
    },
    "slideshow": {
     "slide_type": ""
    },
    "tags": []
   },
   "outputs": [],
   "source": [
    "import pandas as pd\n",
    "import boto3\n",
    "import json\n",
    "import os\n",
    "from datetime import datetime"
   ]
  },
  {
   "cell_type": "code",
   "execution_count": 3,
   "id": "d3c4640d-5bf0-4fd9-b61f-13b412256cd3",
   "metadata": {
    "editable": true,
    "execution": {
     "iopub.execute_input": "2025-07-20T22:09:00.955031Z",
     "iopub.status.busy": "2025-07-20T22:09:00.954298Z",
     "iopub.status.idle": "2025-07-20T22:09:00.959630Z",
     "shell.execute_reply": "2025-07-20T22:09:00.958904Z",
     "shell.execute_reply.started": "2025-07-20T22:09:00.954999Z"
    },
    "slideshow": {
     "slide_type": ""
    },
    "tags": []
   },
   "outputs": [
    {
     "name": "stdout",
     "output_type": "stream",
     "text": [
      "Início do salvamento: 2025-07-20 22:09:00.956218\n",
      "Configuração: config.json\n",
      "Métricas: metricas_completas.csv\n",
      "Bucket: experimento-lucas-barbosa\n"
     ]
    }
   ],
   "source": [
    "print(f\"Início do salvamento: {datetime.now()}\")\n",
    "print(f\"Configuração: {input_config_path}\")\n",
    "print(f\"Métricas: {input_metricas_path}\")\n",
    "print(f\"Bucket: {bucket_name}\")"
   ]
  },
  {
   "cell_type": "code",
   "execution_count": 4,
   "id": "278817fa-cca7-4708-94e9-04cba1b67794",
   "metadata": {
    "editable": true,
    "execution": {
     "iopub.execute_input": "2025-07-20T22:09:00.961570Z",
     "iopub.status.busy": "2025-07-20T22:09:00.960911Z",
     "iopub.status.idle": "2025-07-20T22:09:00.967029Z",
     "shell.execute_reply": "2025-07-20T22:09:00.966385Z",
     "shell.execute_reply.started": "2025-07-20T22:09:00.961455Z"
    },
    "slideshow": {
     "slide_type": ""
    },
    "tags": []
   },
   "outputs": [
    {
     "name": "stdout",
     "output_type": "stream",
     "text": [
      "Configurações carregadas:\n",
      "  Bucket: experimento-lucas-barbosa\n",
      "  Pasta raw: raw/\n",
      "  Pasta processed: processed/\n",
      "  Pasta archive: archive/\n",
      "  Pasta logs: logs/\n"
     ]
    }
   ],
   "source": [
    "# Carregar configurações e resultados\n",
    "with open(input_config_path) as f:\n",
    "    config = json.load(f)\n",
    "\n",
    "# Usar parâmetros do pipeline ou valores do config\n",
    "BUCKET = bucket_name or config.get('bucket_name')\n",
    "RAW_PREF = config['pasta_raw']\n",
    "PROC_PREF = pasta_processed or config.get('pasta_processed')\n",
    "ARCH_PREF = config['pasta_archive']\n",
    "LOGS_PREF = pasta_logs\n",
    "\n",
    "print(\"Configurações carregadas:\")\n",
    "print(f\"  Bucket: {BUCKET}\")\n",
    "print(f\"  Pasta raw: {RAW_PREF}\")\n",
    "print(f\"  Pasta processed: {PROC_PREF}\")\n",
    "print(f\"  Pasta archive: {ARCH_PREF}\")\n",
    "print(f\"  Pasta logs: {LOGS_PREF}\")"
   ]
  },
  {
   "cell_type": "code",
   "execution_count": 5,
   "id": "aa44e577-1379-4b88-b7bc-8d7ecbfd38a7",
   "metadata": {
    "editable": true,
    "execution": {
     "iopub.execute_input": "2025-07-20T22:09:00.968435Z",
     "iopub.status.busy": "2025-07-20T22:09:00.968145Z",
     "iopub.status.idle": "2025-07-20T22:09:00.979952Z",
     "shell.execute_reply": "2025-07-20T22:09:00.979316Z",
     "shell.execute_reply.started": "2025-07-20T22:09:00.968407Z"
    },
    "slideshow": {
     "slide_type": ""
    },
    "tags": []
   },
   "outputs": [
    {
     "name": "stdout",
     "output_type": "stream",
     "text": [
      "✓ Métricas carregadas: 84 linhas\n",
      "  Colunas: ['id_experimento', 'grupo', 'metrica', 'valor', 'timestamp', 'arquivo_origem']\n",
      "  Experimentos: 5\n",
      "  Grupos: 3\n",
      "  Métricas: 8\n"
     ]
    }
   ],
   "source": [
    "# Carregar métricas completas\n",
    "try:\n",
    "    df_meta = pd.read_csv(input_metricas_path)\n",
    "    print(f\"✓ Métricas carregadas: {len(df_meta)} linhas\")\n",
    "    print(f\"  Colunas: {list(df_meta.columns)}\")\n",
    "    \n",
    "    # Verificar se há dados\n",
    "    if len(df_meta) == 0:\n",
    "        raise ValueError(\"Arquivo de métricas está vazio\")\n",
    "        \n",
    "    # Mostrar resumo das métricas\n",
    "    print(f\"  Experimentos: {df_meta['id_experimento'].nunique()}\")\n",
    "    print(f\"  Grupos: {df_meta['grupo'].nunique()}\")\n",
    "    print(f\"  Métricas: {df_meta['metrica'].nunique()}\")\n",
    "    \n",
    "except Exception as e:\n",
    "    print(f\"❌ Erro ao carregar métricas: {str(e)}\")\n",
    "    raise"
   ]
  },
  {
   "cell_type": "code",
   "execution_count": 6,
   "id": "38c0535a-54cd-41c4-b343-09fa4e226b50",
   "metadata": {
    "editable": true,
    "execution": {
     "iopub.execute_input": "2025-07-20T22:09:00.982876Z",
     "iopub.status.busy": "2025-07-20T22:09:00.982496Z",
     "iopub.status.idle": "2025-07-20T22:09:01.090632Z",
     "shell.execute_reply": "2025-07-20T22:09:01.089776Z",
     "shell.execute_reply.started": "2025-07-20T22:09:00.982829Z"
    },
    "slideshow": {
     "slide_type": ""
    },
    "tags": []
   },
   "outputs": [
    {
     "name": "stdout",
     "output_type": "stream",
     "text": [
      "ID do experimento: exp_005\n",
      "Arquivo de saída: exp_005_metricas_20250720_220901.csv\n",
      "Chave S3: processed/exp_005_metricas_20250720_220901.csv\n"
     ]
    }
   ],
   "source": [
    "# Extrair ID do experimento (único ou usar o primeiro)\n",
    "id_experimento = df_meta['id_experimento'].iloc[0]\n",
    "print(f\"ID do experimento: {id_experimento}\")\n",
    "\n",
    "# Conectar S3\n",
    "s3 = boto3.client('s3')\n",
    "timestamp = datetime.now().strftime('%Y%m%d_%H%M%S')\n",
    "\n",
    "# Gerar nomes seguindo o padrão\n",
    "nome_meta = f\"{id_experimento}_metricas_{timestamp}.csv\"\n",
    "key_meta = f\"{PROC_PREF}{nome_meta}\"\n",
    "\n",
    "print(f\"Arquivo de saída: {nome_meta}\")\n",
    "print(f\"Chave S3: {key_meta}\")"
   ]
  },
  {
   "cell_type": "code",
   "execution_count": 7,
   "id": "a81a697b-9d92-4086-b3fd-73c20c92354a",
   "metadata": {
    "editable": true,
    "execution": {
     "iopub.execute_input": "2025-07-20T22:09:01.092219Z",
     "iopub.status.busy": "2025-07-20T22:09:01.091757Z",
     "iopub.status.idle": "2025-07-20T22:09:01.194115Z",
     "shell.execute_reply": "2025-07-20T22:09:01.193236Z",
     "shell.execute_reply.started": "2025-07-20T22:09:01.092190Z"
    },
    "slideshow": {
     "slide_type": ""
    },
    "tags": []
   },
   "outputs": [
    {
     "name": "stdout",
     "output_type": "stream",
     "text": [
      "✓ Métricas enviadas para s3://experimento-lucas-barbosa/processed/exp_005_metricas_20250720_220901.csv\n"
     ]
    }
   ],
   "source": [
    "# Conectar S3 e upload métricas\n",
    "s3 = boto3.client('s3')\n",
    "timestamp = datetime.now().strftime('%Y%m%d_%H%M%S')\n",
    "\n",
    "# Gerar nome seguindo o padrão\n",
    "nome_meta = f\"{id_experimento}_metricas_{timestamp}.csv\"\n",
    "key_meta  = f\"{PROC_PREF}{nome_meta}\"\n",
    "\n",
    "# Salvar localmente e enviar\n",
    "df_meta.to_csv(f\"/tmp/{nome_meta}\", index=False)\n",
    "s3.upload_file(f\"/tmp/{nome_meta}\", BUCKET, key_meta)\n",
    "print(f\"✓ Métricas enviadas para s3://{BUCKET}/{key_meta}\")"
   ]
  },
  {
   "cell_type": "code",
   "execution_count": 8,
   "id": "6b5e3ef1-47d3-4e8e-aaf1-b29fd50fa0fe",
   "metadata": {
    "editable": true,
    "execution": {
     "iopub.execute_input": "2025-07-20T22:09:01.195952Z",
     "iopub.status.busy": "2025-07-20T22:09:01.195063Z",
     "iopub.status.idle": "2025-07-20T22:09:01.264468Z",
     "shell.execute_reply": "2025-07-20T22:09:01.261443Z",
     "shell.execute_reply.started": "2025-07-20T22:09:01.195919Z"
    },
    "slideshow": {
     "slide_type": ""
    },
    "tags": []
   },
   "outputs": [
    {
     "name": "stdout",
     "output_type": "stream",
     "text": [
      "✓ Log salvo em s3://experimento-lucas-barbosa/logs/processamento_exp_005_20250720_220901.json\n"
     ]
    }
   ],
   "source": [
    "# Salvar log de execução\n",
    "try:\n",
    "    log = {\n",
    "        'timestamp': datetime.now().isoformat(),\n",
    "        'id_experimento': id_experimento,\n",
    "        'metrics_key': key_meta,\n",
    "        'metrics_file': nome_meta,\n",
    "        'total_linhas': len(df_meta),\n",
    "        'grupos': list(df_meta['grupo'].unique()),\n",
    "        'metricas': list(df_meta['metrica'].unique()),\n",
    "        'bucket': BUCKET,\n",
    "        'status': 'sucesso'\n",
    "    }\n",
    "    \n",
    "    log_key = f\"{LOGS_PREF}processamento_{id_experimento}_{timestamp}.json\"\n",
    "    \n",
    "    # Upload do log\n",
    "    s3.put_object(\n",
    "        Bucket=BUCKET, \n",
    "        Key=log_key, \n",
    "        Body=json.dumps(log, indent=2, ensure_ascii=False),\n",
    "        ContentType='application/json'\n",
    "    )\n",
    "    \n",
    "    print(f\"✓ Log salvo em s3://{BUCKET}/{log_key}\")\n",
    "    \n",
    "except Exception as e:\n",
    "    print(f\"⚠️ Erro ao salvar log: {str(e)}\")\n",
    "    # Não falha o pipeline se o log der erro"
   ]
  },
  {
   "cell_type": "code",
   "execution_count": null,
   "id": "ffb16205-3467-4f92-b3bf-8ff78ed5cd00",
   "metadata": {
    "editable": true,
    "slideshow": {
     "slide_type": ""
    },
    "tags": []
   },
   "outputs": [],
   "source": []
  }
 ],
 "metadata": {
  "kernelspec": {
   "display_name": "Python 3 (ipykernel)",
   "language": "python",
   "name": "python3"
  },
  "language_info": {
   "codemirror_mode": {
    "name": "ipython",
    "version": 3
   },
   "file_extension": ".py",
   "mimetype": "text/x-python",
   "name": "python",
   "nbconvert_exporter": "python",
   "pygments_lexer": "ipython3",
   "version": "3.12.9"
  }
 },
 "nbformat": 4,
 "nbformat_minor": 5
}
