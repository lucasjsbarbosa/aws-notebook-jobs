{
 "cells": [
  {
   "cell_type": "code",
   "execution_count": 11,
   "id": "1225c26e-bbaf-4b90-874d-1ac99d667a1d",
   "metadata": {
    "editable": true,
    "execution": {
     "iopub.execute_input": "2025-07-22T15:10:14.154667Z",
     "iopub.status.busy": "2025-07-22T15:10:14.153664Z",
     "iopub.status.idle": "2025-07-22T15:10:14.158187Z",
     "shell.execute_reply": "2025-07-22T15:10:14.157382Z",
     "shell.execute_reply.started": "2025-07-22T15:10:14.154636Z"
    },
    "slideshow": {
     "slide_type": ""
    },
    "tags": [
     "parameters"
    ]
   },
   "outputs": [],
   "source": [
    "# Parâmetros do pipeline (serão sobrescritos pelo SageMaker)\n",
    "bucket_name = 'experimento-lucas-barbosa'\n",
    "input_config_path = 'config.json'\n",
    "input_metricas_path = 'metricas_completas.csv'\n",
    "pasta_logs = 'logs/'\n",
    "pasta_processed = 'processed/'"
   ]
  },
  {
   "cell_type": "code",
   "execution_count": 12,
   "id": "c3ef0ed5-cd32-431c-b975-4d8f5dc68aef",
   "metadata": {
    "editable": true,
    "execution": {
     "iopub.execute_input": "2025-07-22T15:10:14.353288Z",
     "iopub.status.busy": "2025-07-22T15:10:14.352870Z",
     "iopub.status.idle": "2025-07-22T15:10:14.356887Z",
     "shell.execute_reply": "2025-07-22T15:10:14.356129Z",
     "shell.execute_reply.started": "2025-07-22T15:10:14.353262Z"
    },
    "slideshow": {
     "slide_type": ""
    },
    "tags": []
   },
   "outputs": [],
   "source": [
    "import pandas as pd\n",
    "import boto3\n",
    "import json\n",
    "import os\n",
    "from datetime import datetime"
   ]
  },
  {
   "cell_type": "code",
   "execution_count": 13,
   "id": "d3c4640d-5bf0-4fd9-b61f-13b412256cd3",
   "metadata": {
    "editable": true,
    "execution": {
     "iopub.execute_input": "2025-07-22T15:10:14.553181Z",
     "iopub.status.busy": "2025-07-22T15:10:14.552504Z",
     "iopub.status.idle": "2025-07-22T15:10:14.557312Z",
     "shell.execute_reply": "2025-07-22T15:10:14.556663Z",
     "shell.execute_reply.started": "2025-07-22T15:10:14.553147Z"
    },
    "slideshow": {
     "slide_type": ""
    },
    "tags": []
   },
   "outputs": [
    {
     "name": "stdout",
     "output_type": "stream",
     "text": [
      "Início do salvamento: 2025-07-22 15:10:14.554388\n",
      "Parâmetros recebidos:\n",
      "  bucket_name: experimento-lucas-barbosa\n",
      "  input_config_path: config.json\n",
      "  input_metricas_path: metricas_completas.csv\n",
      "  pasta_logs: logs/\n",
      "  pasta_processed: processed/\n"
     ]
    }
   ],
   "source": [
    "print(f\"Início do salvamento: {datetime.now()}\")\n",
    "print(f\"Parâmetros recebidos:\")\n",
    "print(f\"  bucket_name: {bucket_name}\")\n",
    "print(f\"  input_config_path: {input_config_path}\")\n",
    "print(f\"  input_metricas_path: {input_metricas_path}\")\n",
    "print(f\"  pasta_logs: {pasta_logs}\")\n",
    "print(f\"  pasta_processed: {pasta_processed}\")"
   ]
  },
  {
   "cell_type": "code",
   "execution_count": 14,
   "id": "241a6b38-84cb-4992-88b2-361ddb8f45d1",
   "metadata": {
    "execution": {
     "iopub.execute_input": "2025-07-22T15:10:14.730823Z",
     "iopub.status.busy": "2025-07-22T15:10:14.730525Z",
     "iopub.status.idle": "2025-07-22T15:10:14.864214Z",
     "shell.execute_reply": "2025-07-22T15:10:14.863515Z",
     "shell.execute_reply.started": "2025-07-22T15:10:14.730801Z"
    }
   },
   "outputs": [
    {
     "name": "stdout",
     "output_type": "stream",
     "text": [
      "✓ Arquivos baixados com sucesso!\n"
     ]
    }
   ],
   "source": [
    "# Baixar arquivos do S3\n",
    "s3 = boto3.client('s3')\n",
    "\n",
    "s3.download_file(bucket_name, 'config/config.json', 'config.json')\n",
    "s3.download_file(bucket_name, 'processed/metricas_completas.csv', 'metricas_completas.csv')\n",
    "\n",
    "print('✓ Arquivos baixados com sucesso!')"
   ]
  },
  {
   "cell_type": "code",
   "execution_count": 15,
   "id": "278817fa-cca7-4708-94e9-04cba1b67794",
   "metadata": {
    "editable": true,
    "execution": {
     "iopub.execute_input": "2025-07-22T15:10:14.976813Z",
     "iopub.status.busy": "2025-07-22T15:10:14.976535Z",
     "iopub.status.idle": "2025-07-22T15:10:14.982968Z",
     "shell.execute_reply": "2025-07-22T15:10:14.982196Z",
     "shell.execute_reply.started": "2025-07-22T15:10:14.976792Z"
    },
    "slideshow": {
     "slide_type": ""
    },
    "tags": []
   },
   "outputs": [
    {
     "name": "stdout",
     "output_type": "stream",
     "text": [
      "Configurações carregadas:\n",
      "  Bucket: experimento-lucas-barbosa\n",
      "  Pasta raw: raw/\n",
      "  Pasta processed: processed/\n",
      "  Pasta archive: archive/\n",
      "  Pasta error: raw/error/\n",
      "  Pasta logs: logs/\n"
     ]
    }
   ],
   "source": [
    "# Carregar configurações\n",
    "with open('config.json') as f:\n",
    "    config = json.load(f)\n",
    "\n",
    "# Definir paths\n",
    "BUCKET = bucket_name\n",
    "RAW_PREF = config['pasta_raw']\n",
    "PROC_PREF = pasta_processed\n",
    "ARCH_PREF = config['pasta_archive']\n",
    "ERROR_PREF = config.get('pasta_error', 'raw/error/')\n",
    "LOGS_PREF = pasta_logs\n",
    "\n",
    "print('Configurações carregadas:')\n",
    "print(f'  Bucket: {BUCKET}')\n",
    "print(f'  Pasta raw: {RAW_PREF}')\n",
    "print(f'  Pasta processed: {PROC_PREF}')\n",
    "print(f'  Pasta archive: {ARCH_PREF}')\n",
    "print(f'  Pasta error: {ERROR_PREF}')\n",
    "print(f'  Pasta logs: {LOGS_PREF}')"
   ]
  },
  {
   "cell_type": "code",
   "execution_count": 16,
   "id": "aa44e577-1379-4b88-b7bc-8d7ecbfd38a7",
   "metadata": {
    "editable": true,
    "execution": {
     "iopub.execute_input": "2025-07-22T15:10:15.373414Z",
     "iopub.status.busy": "2025-07-22T15:10:15.372480Z",
     "iopub.status.idle": "2025-07-22T15:10:15.580868Z",
     "shell.execute_reply": "2025-07-22T15:10:15.579475Z",
     "shell.execute_reply.started": "2025-07-22T15:10:15.373385Z"
    },
    "slideshow": {
     "slide_type": ""
    },
    "tags": []
   },
   "outputs": [
    {
     "name": "stdout",
     "output_type": "stream",
     "text": [
      "✓ Métricas carregadas: 0 linhas\n",
      "  Colunas: ['id_experimento', 'grupo', 'metrica', 'valor', 'timestamp', 'arquivo_origem']\n"
     ]
    },
    {
     "ename": "ValueError",
     "evalue": "Arquivo de métricas está vazio",
     "output_type": "error",
     "traceback": [
      "\u001b[0;31m---------------------------------------------------------------------------\u001b[0m",
      "\u001b[0;31mValueError\u001b[0m                                Traceback (most recent call last)",
      "Cell \u001b[0;32mIn[16], line 7\u001b[0m\n\u001b[1;32m      4\u001b[0m \u001b[38;5;28mprint\u001b[39m(\u001b[38;5;124mf\u001b[39m\u001b[38;5;124m'\u001b[39m\u001b[38;5;124m  Colunas: \u001b[39m\u001b[38;5;132;01m{\u001b[39;00m\u001b[38;5;28mlist\u001b[39m(df_meta\u001b[38;5;241m.\u001b[39mcolumns)\u001b[38;5;132;01m}\u001b[39;00m\u001b[38;5;124m'\u001b[39m)\n\u001b[1;32m      6\u001b[0m \u001b[38;5;28;01mif\u001b[39;00m \u001b[38;5;28mlen\u001b[39m(df_meta) \u001b[38;5;241m==\u001b[39m \u001b[38;5;241m0\u001b[39m:\n\u001b[0;32m----> 7\u001b[0m     \u001b[38;5;28;01mraise\u001b[39;00m \u001b[38;5;167;01mValueError\u001b[39;00m(\u001b[38;5;124m'\u001b[39m\u001b[38;5;124mArquivo de métricas está vazio\u001b[39m\u001b[38;5;124m'\u001b[39m)\n\u001b[1;32m      9\u001b[0m \u001b[38;5;66;03m# Obter lista de arquivos processados com sucesso\u001b[39;00m\n\u001b[1;32m     10\u001b[0m arquivos_processados \u001b[38;5;241m=\u001b[39m df_meta[\u001b[38;5;124m'\u001b[39m\u001b[38;5;124marquivo_origem\u001b[39m\u001b[38;5;124m'\u001b[39m]\u001b[38;5;241m.\u001b[39munique()\u001b[38;5;241m.\u001b[39mtolist()\n",
      "\u001b[0;31mValueError\u001b[0m: Arquivo de métricas está vazio"
     ]
    }
   ],
   "source": [
    "# Carregar métricas completas\n",
    "df_meta = pd.read_csv('metricas_completas.csv')\n",
    "print(f'✓ Métricas carregadas: {len(df_meta)} linhas')\n",
    "print(f'  Colunas: {list(df_meta.columns)}')\n",
    "\n",
    "if len(df_meta) == 0:\n",
    "    raise ValueError('Arquivo de métricas está vazio')\n",
    "\n",
    "# Obter lista de arquivos processados com sucesso\n",
    "arquivos_processados = df_meta['arquivo_origem'].unique().tolist()\n",
    "print(f'  Arquivos processados com sucesso: {len(arquivos_processados)}')\n",
    "print(f'  Lista: {arquivos_processados}')"
   ]
  },
  {
   "cell_type": "code",
   "execution_count": 17,
   "id": "ffb16205-3467-4f92-b3bf-8ff78ed5cd00",
   "metadata": {
    "editable": true,
    "execution": {
     "iopub.execute_input": "2025-07-22T15:10:15.669118Z",
     "iopub.status.busy": "2025-07-22T15:10:15.668615Z",
     "iopub.status.idle": "2025-07-22T15:10:15.786737Z",
     "shell.execute_reply": "2025-07-22T15:10:15.785730Z",
     "shell.execute_reply.started": "2025-07-22T15:10:15.668946Z"
    },
    "slideshow": {
     "slide_type": ""
    },
    "tags": []
   },
   "outputs": [
    {
     "ename": "IndexError",
     "evalue": "single positional indexer is out-of-bounds",
     "output_type": "error",
     "traceback": [
      "\u001b[0;31m---------------------------------------------------------------------------\u001b[0m",
      "\u001b[0;31mIndexError\u001b[0m                                Traceback (most recent call last)",
      "Cell \u001b[0;32mIn[17], line 2\u001b[0m\n\u001b[1;32m      1\u001b[0m \u001b[38;5;66;03m# Preparar upload\u001b[39;00m\n\u001b[0;32m----> 2\u001b[0m id_experimento \u001b[38;5;241m=\u001b[39m \u001b[43mdf_meta\u001b[49m\u001b[43m[\u001b[49m\u001b[38;5;124;43m'\u001b[39;49m\u001b[38;5;124;43mid_experimento\u001b[39;49m\u001b[38;5;124;43m'\u001b[39;49m\u001b[43m]\u001b[49m\u001b[38;5;241;43m.\u001b[39;49m\u001b[43miloc\u001b[49m\u001b[43m[\u001b[49m\u001b[38;5;241;43m0\u001b[39;49m\u001b[43m]\u001b[49m\n\u001b[1;32m      3\u001b[0m timestamp \u001b[38;5;241m=\u001b[39m datetime\u001b[38;5;241m.\u001b[39mnow()\u001b[38;5;241m.\u001b[39mstrftime(\u001b[38;5;124m'\u001b[39m\u001b[38;5;124m%\u001b[39m\u001b[38;5;124mY\u001b[39m\u001b[38;5;124m%\u001b[39m\u001b[38;5;124mm\u001b[39m\u001b[38;5;132;01m%d\u001b[39;00m\u001b[38;5;124m_\u001b[39m\u001b[38;5;124m%\u001b[39m\u001b[38;5;124mH\u001b[39m\u001b[38;5;124m%\u001b[39m\u001b[38;5;124mM\u001b[39m\u001b[38;5;124m%\u001b[39m\u001b[38;5;124mS\u001b[39m\u001b[38;5;124m'\u001b[39m)\n\u001b[1;32m      4\u001b[0m nome_meta \u001b[38;5;241m=\u001b[39m \u001b[38;5;124mf\u001b[39m\u001b[38;5;124m'\u001b[39m\u001b[38;5;132;01m{\u001b[39;00mid_experimento\u001b[38;5;132;01m}\u001b[39;00m\u001b[38;5;124m_metricas_\u001b[39m\u001b[38;5;132;01m{\u001b[39;00mtimestamp\u001b[38;5;132;01m}\u001b[39;00m\u001b[38;5;124m.csv\u001b[39m\u001b[38;5;124m'\u001b[39m\n",
      "File \u001b[0;32m/opt/conda/lib/python3.12/site-packages/pandas/core/indexing.py:1191\u001b[0m, in \u001b[0;36m_LocationIndexer.__getitem__\u001b[0;34m(self, key)\u001b[0m\n\u001b[1;32m   1189\u001b[0m maybe_callable \u001b[38;5;241m=\u001b[39m com\u001b[38;5;241m.\u001b[39mapply_if_callable(key, \u001b[38;5;28mself\u001b[39m\u001b[38;5;241m.\u001b[39mobj)\n\u001b[1;32m   1190\u001b[0m maybe_callable \u001b[38;5;241m=\u001b[39m \u001b[38;5;28mself\u001b[39m\u001b[38;5;241m.\u001b[39m_check_deprecated_callable_usage(key, maybe_callable)\n\u001b[0;32m-> 1191\u001b[0m \u001b[38;5;28;01mreturn\u001b[39;00m \u001b[38;5;28;43mself\u001b[39;49m\u001b[38;5;241;43m.\u001b[39;49m\u001b[43m_getitem_axis\u001b[49m\u001b[43m(\u001b[49m\u001b[43mmaybe_callable\u001b[49m\u001b[43m,\u001b[49m\u001b[43m \u001b[49m\u001b[43maxis\u001b[49m\u001b[38;5;241;43m=\u001b[39;49m\u001b[43maxis\u001b[49m\u001b[43m)\u001b[49m\n",
      "File \u001b[0;32m/opt/conda/lib/python3.12/site-packages/pandas/core/indexing.py:1752\u001b[0m, in \u001b[0;36m_iLocIndexer._getitem_axis\u001b[0;34m(self, key, axis)\u001b[0m\n\u001b[1;32m   1749\u001b[0m     \u001b[38;5;28;01mraise\u001b[39;00m \u001b[38;5;167;01mTypeError\u001b[39;00m(\u001b[38;5;124m\"\u001b[39m\u001b[38;5;124mCannot index by location index with a non-integer key\u001b[39m\u001b[38;5;124m\"\u001b[39m)\n\u001b[1;32m   1751\u001b[0m \u001b[38;5;66;03m# validate the location\u001b[39;00m\n\u001b[0;32m-> 1752\u001b[0m \u001b[38;5;28;43mself\u001b[39;49m\u001b[38;5;241;43m.\u001b[39;49m\u001b[43m_validate_integer\u001b[49m\u001b[43m(\u001b[49m\u001b[43mkey\u001b[49m\u001b[43m,\u001b[49m\u001b[43m \u001b[49m\u001b[43maxis\u001b[49m\u001b[43m)\u001b[49m\n\u001b[1;32m   1754\u001b[0m \u001b[38;5;28;01mreturn\u001b[39;00m \u001b[38;5;28mself\u001b[39m\u001b[38;5;241m.\u001b[39mobj\u001b[38;5;241m.\u001b[39m_ixs(key, axis\u001b[38;5;241m=\u001b[39maxis)\n",
      "File \u001b[0;32m/opt/conda/lib/python3.12/site-packages/pandas/core/indexing.py:1685\u001b[0m, in \u001b[0;36m_iLocIndexer._validate_integer\u001b[0;34m(self, key, axis)\u001b[0m\n\u001b[1;32m   1683\u001b[0m len_axis \u001b[38;5;241m=\u001b[39m \u001b[38;5;28mlen\u001b[39m(\u001b[38;5;28mself\u001b[39m\u001b[38;5;241m.\u001b[39mobj\u001b[38;5;241m.\u001b[39m_get_axis(axis))\n\u001b[1;32m   1684\u001b[0m \u001b[38;5;28;01mif\u001b[39;00m key \u001b[38;5;241m>\u001b[39m\u001b[38;5;241m=\u001b[39m len_axis \u001b[38;5;129;01mor\u001b[39;00m key \u001b[38;5;241m<\u001b[39m \u001b[38;5;241m-\u001b[39mlen_axis:\n\u001b[0;32m-> 1685\u001b[0m     \u001b[38;5;28;01mraise\u001b[39;00m \u001b[38;5;167;01mIndexError\u001b[39;00m(\u001b[38;5;124m\"\u001b[39m\u001b[38;5;124msingle positional indexer is out-of-bounds\u001b[39m\u001b[38;5;124m\"\u001b[39m)\n",
      "\u001b[0;31mIndexError\u001b[0m: single positional indexer is out-of-bounds"
     ]
    }
   ],
   "source": [
    "# Preparar upload\n",
    "id_experimento = df_meta['id_experimento'].iloc[0]\n",
    "timestamp = datetime.now().strftime('%Y%m%d_%H%M%S')\n",
    "nome_meta = f'{id_experimento}_metricas_{timestamp}.csv'\n",
    "key_meta = f'{PROC_PREF}{nome_meta}'\n",
    "print(f'Arquivo de saída: {nome_meta}')\n",
    "print(f'Chave S3: {key_meta}')"
   ]
  },
  {
   "cell_type": "code",
   "execution_count": 8,
   "id": "e2e7af65-69ca-4be4-9a9f-866741ad0364",
   "metadata": {
    "execution": {
     "iopub.execute_input": "2025-07-22T14:15:23.839690Z",
     "iopub.status.busy": "2025-07-22T14:15:23.839474Z",
     "iopub.status.idle": "2025-07-22T14:15:23.881599Z",
     "shell.execute_reply": "2025-07-22T14:15:23.880876Z",
     "shell.execute_reply.started": "2025-07-22T14:15:23.839671Z"
    }
   },
   "outputs": [
    {
     "name": "stdout",
     "output_type": "stream",
     "text": [
      "✓ Métricas enviadas para s3://experimento-lucas-barbosa/processed/exp_005_metricas_20250722_141523.csv\n"
     ]
    }
   ],
   "source": [
    "# Salvar métricas finais na pasta processed/\n",
    "df_meta.to_csv(f'/tmp/{nome_meta}', index=False)\n",
    "s3.upload_file(f'/tmp/{nome_meta}', BUCKET, key_meta)\n",
    "print(f'✓ Métricas enviadas para s3://{BUCKET}/{key_meta}')"
   ]
  },
  {
   "cell_type": "code",
   "execution_count": 9,
   "id": "59e5835e-2fa2-40f1-bc39-e14436a3825f",
   "metadata": {
    "execution": {
     "iopub.execute_input": "2025-07-22T14:15:23.882630Z",
     "iopub.status.busy": "2025-07-22T14:15:23.882406Z",
     "iopub.status.idle": "2025-07-22T14:15:24.056396Z",
     "shell.execute_reply": "2025-07-22T14:15:24.055678Z",
     "shell.execute_reply.started": "2025-07-22T14:15:23.882610Z"
    }
   },
   "outputs": [
    {
     "name": "stdout",
     "output_type": "stream",
     "text": [
      "\n",
      "🗂️ Classificando e movendo arquivos...\n",
      "Arquivos que foram processados com sucesso: ['experimento_teste.csv']\n",
      "Encontrados 4 objetos na pasta raw/\n",
      "  Pulando: raw/ (pasta ou já processado)\n",
      "  Pulando: raw/error/ (pasta ou já processado)\n",
      "Analisando arquivo: experimento_teste.csv\n",
      "  ✅ experimento_teste.csv → archive/\n",
      "Analisando arquivo: experimento_teste_2.csv\n",
      "  ❌ experimento_teste_2.csv → raw/error/ (não foi processado)\n",
      "\n",
      "📊 Resumo da movimentação:\n",
      "  ✅ Arquivos processados: 1\n",
      "  ❌ Arquivos com erro: 1\n"
     ]
    }
   ],
   "source": [
    "# Classificar e mover arquivos\n",
    "print('\\n🗂️ Classificando e movendo arquivos...')\n",
    "print(f'Arquivos que foram processados com sucesso: {arquivos_processados}')\n",
    "\n",
    "# Listar arquivos na pasta raw/\n",
    "response = s3.list_objects_v2(Bucket=BUCKET, Prefix=RAW_PREF)\n",
    "arquivos_movidos = []\n",
    "arquivos_com_erro = []\n",
    "\n",
    "# Verificar se existem arquivos\n",
    "if 'Contents' in response and len(response['Contents']) > 0:\n",
    "    print(f'Encontrados {len(response[\"Contents\"])} objetos na pasta raw/')\n",
    "    \n",
    "    for obj in response['Contents']:\n",
    "        arquivo_key = obj['Key']\n",
    "        \n",
    "        # Pular pastas e arquivos já em subpastas\n",
    "        if arquivo_key.endswith('/') or arquivo_key == RAW_PREF or 'error/' in arquivo_key:\n",
    "            print(f'  Pulando: {arquivo_key} (pasta ou já processado)')\n",
    "            continue\n",
    "            \n",
    "        # Extrair nome do arquivo\n",
    "        nome_arquivo = arquivo_key.replace(RAW_PREF, '')\n",
    "        if not nome_arquivo:  # Se ficou vazio após replace\n",
    "            continue\n",
    "            \n",
    "        print(f'Analisando arquivo: {nome_arquivo}')\n",
    "        \n",
    "        # Verificar se foi processado com sucesso\n",
    "        if nome_arquivo in arquivos_processados:\n",
    "            # SUCESSO: Mover para archive/\n",
    "            destino_key = f\"{ARCH_PREF}{nome_arquivo.replace('.csv', f'_{timestamp}.csv')}\"\n",
    "            \n",
    "            s3.copy_object(\n",
    "                Bucket=BUCKET,\n",
    "                CopySource={'Bucket': BUCKET, 'Key': arquivo_key},\n",
    "                Key=destino_key\n",
    "            )\n",
    "            s3.delete_object(Bucket=BUCKET, Key=arquivo_key)\n",
    "            \n",
    "            arquivos_movidos.append({\n",
    "                'nome': nome_arquivo,\n",
    "                'origem': arquivo_key,\n",
    "                'destino': destino_key,\n",
    "                'status': 'processado_com_sucesso'\n",
    "            })\n",
    "            \n",
    "            print(f'  ✅ {nome_arquivo} → archive/')\n",
    "            \n",
    "        else:\n",
    "            # ERRO: Mover para raw/error/\n",
    "            destino_key = f\"{ERROR_PREF}{nome_arquivo.replace('.csv', f'_erro_{timestamp}.csv')}\"\n",
    "            \n",
    "            s3.copy_object(\n",
    "                Bucket=BUCKET,\n",
    "                CopySource={'Bucket': BUCKET, 'Key': arquivo_key},\n",
    "                Key=destino_key\n",
    "            )\n",
    "            s3.delete_object(Bucket=BUCKET, Key=arquivo_key)\n",
    "            \n",
    "            arquivos_com_erro.append({\n",
    "                'nome': nome_arquivo,\n",
    "                'origem': arquivo_key,\n",
    "                'destino': destino_key,\n",
    "                'status': 'erro_processamento',\n",
    "                'motivo': 'nao_processado_nas_metricas'\n",
    "            })\n",
    "            \n",
    "            print(f'  ❌ {nome_arquivo} → raw/error/ (não foi processado)')\n",
    "    \n",
    "    print(f'\\n📊 Resumo da movimentação:')\n",
    "    print(f'  ✅ Arquivos processados: {len(arquivos_movidos)}')\n",
    "    print(f'  ❌ Arquivos com erro: {len(arquivos_com_erro)}')\n",
    "    \n",
    "else:\n",
    "    print('⚠️ Pasta raw/ está vazia - nenhum arquivo para processar')\n",
    "    print('   Isso é normal se todos os arquivos já foram processados anteriormente')\n",
    "    arquivos_movidos = []\n",
    "    arquivos_com_erro = []"
   ]
  },
  {
   "cell_type": "code",
   "execution_count": 10,
   "id": "4117ee4e-499e-4e51-846c-549b1d473b06",
   "metadata": {
    "execution": {
     "iopub.execute_input": "2025-07-22T14:15:24.058272Z",
     "iopub.status.busy": "2025-07-22T14:15:24.057917Z",
     "iopub.status.idle": "2025-07-22T14:15:24.100558Z",
     "shell.execute_reply": "2025-07-22T14:15:24.099823Z",
     "shell.execute_reply.started": "2025-07-22T14:15:24.058226Z"
    }
   },
   "outputs": [
    {
     "name": "stdout",
     "output_type": "stream",
     "text": [
      "✓ Log detalhado salvo em s3://experimento-lucas-barbosa/logs/processamento_exp_005_20250722_141523.json\n",
      "\n",
      "🎉 Processamento concluído com sucesso!\n",
      "   📊 Métricas salvas: processed/exp_005_metricas_20250722_141523.csv\n",
      "   📁 Arquivos arquivados: 1\n",
      "   ❌ Arquivos com erro: 1\n",
      "   📝 Log criado: logs/processamento_exp_005_20250722_141523.json\n"
     ]
    }
   ],
   "source": [
    "# Salvar log detalhado\n",
    "log = {\n",
    "    'timestamp': datetime.now().isoformat(),\n",
    "    'id_experimento': id_experimento,\n",
    "    'metrics_key': key_meta,\n",
    "    'metrics_file': nome_meta,\n",
    "    'total_linhas_metricas': len(df_meta),\n",
    "    'grupos': list(df_meta['grupo'].unique()),\n",
    "    'metricas': list(df_meta['metrica'].unique()),\n",
    "    'arquivos_processados_com_sucesso': arquivos_movidos,\n",
    "    'arquivos_com_erro': arquivos_com_erro,\n",
    "    'total_arquivos_processados': len(arquivos_movidos),\n",
    "    'total_arquivos_com_erro': len(arquivos_com_erro),\n",
    "    'bucket': BUCKET,\n",
    "    'pastas': {\n",
    "        'raw': RAW_PREF,\n",
    "        'processed': PROC_PREF,\n",
    "        'archive': ARCH_PREF,\n",
    "        'error': ERROR_PREF,\n",
    "        'logs': LOGS_PREF\n",
    "    },\n",
    "    'status': 'sucesso'\n",
    "}\n",
    "log_key = f'{LOGS_PREF}processamento_{id_experimento}_{timestamp}.json'\n",
    "s3.put_object(Bucket=BUCKET, Key=log_key, Body=json.dumps(log, indent=2, ensure_ascii=False), ContentType='application/json')\n",
    "print(f'✓ Log detalhado salvo em s3://{BUCKET}/{log_key}')\n",
    "print(f'\\n🎉 Processamento concluído com sucesso!')\n",
    "print(f'   📊 Métricas salvas: {key_meta}')\n",
    "print(f'   📁 Arquivos arquivados: {len(arquivos_movidos)}')\n",
    "print(f'   ❌ Arquivos com erro: {len(arquivos_com_erro)}')\n",
    "print(f'   📝 Log criado: {log_key}')"
   ]
  },
  {
   "cell_type": "code",
   "execution_count": null,
   "id": "509f5a02-e3f6-41f8-a96b-a1210bc63a2e",
   "metadata": {},
   "outputs": [],
   "source": []
  }
 ],
 "metadata": {
  "kernelspec": {
   "display_name": "Python 3 (ipykernel)",
   "language": "python",
   "name": "python3"
  },
  "language_info": {
   "codemirror_mode": {
    "name": "ipython",
    "version": 3
   },
   "file_extension": ".py",
   "mimetype": "text/x-python",
   "name": "python",
   "nbconvert_exporter": "python",
   "pygments_lexer": "ipython3",
   "version": "3.12.9"
  }
 },
 "nbformat": 4,
 "nbformat_minor": 5
}
