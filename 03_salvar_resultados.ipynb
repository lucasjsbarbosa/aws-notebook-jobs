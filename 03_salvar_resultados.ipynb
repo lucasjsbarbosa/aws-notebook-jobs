{
 "cells": [
  {
   "cell_type": "code",
   "execution_count": 1,
   "id": "c3ef0ed5-cd32-431c-b975-4d8f5dc68aef",
   "metadata": {
    "editable": true,
    "execution": {
     "iopub.execute_input": "2025-07-18T13:27:38.503227Z",
     "iopub.status.busy": "2025-07-18T13:27:38.502919Z",
     "iopub.status.idle": "2025-07-18T13:27:39.063214Z",
     "shell.execute_reply": "2025-07-18T13:27:39.062488Z",
     "shell.execute_reply.started": "2025-07-18T13:27:38.503192Z"
    },
    "slideshow": {
     "slide_type": ""
    },
    "tags": []
   },
   "outputs": [],
   "source": [
    "import pandas as pd\n",
    "import boto3\n",
    "import json\n",
    "import os\n",
    "from datetime import datetime"
   ]
  },
  {
   "cell_type": "code",
   "execution_count": 2,
   "id": "d3c4640d-5bf0-4fd9-b61f-13b412256cd3",
   "metadata": {
    "editable": true,
    "execution": {
     "iopub.execute_input": "2025-07-18T13:27:39.064960Z",
     "iopub.status.busy": "2025-07-18T13:27:39.064272Z",
     "iopub.status.idle": "2025-07-18T13:27:39.069241Z",
     "shell.execute_reply": "2025-07-18T13:27:39.068344Z",
     "shell.execute_reply.started": "2025-07-18T13:27:39.064925Z"
    },
    "slideshow": {
     "slide_type": ""
    },
    "tags": []
   },
   "outputs": [
    {
     "name": "stdout",
     "output_type": "stream",
     "text": [
      "Início do salvamento: 2025-07-18 13:27:39.066049\n"
     ]
    }
   ],
   "source": [
    "print(f\"Início do salvamento: {datetime.now()}\")"
   ]
  },
  {
   "cell_type": "code",
   "execution_count": 3,
   "id": "278817fa-cca7-4708-94e9-04cba1b67794",
   "metadata": {
    "editable": true,
    "execution": {
     "iopub.execute_input": "2025-07-18T13:27:39.071251Z",
     "iopub.status.busy": "2025-07-18T13:27:39.070787Z",
     "iopub.status.idle": "2025-07-18T13:27:39.082172Z",
     "shell.execute_reply": "2025-07-18T13:27:39.081245Z",
     "shell.execute_reply.started": "2025-07-18T13:27:39.071161Z"
    },
    "slideshow": {
     "slide_type": ""
    },
    "tags": []
   },
   "outputs": [
    {
     "name": "stdout",
     "output_type": "stream",
     "text": [
      "Linhas carregadas: 15 linhas\n"
     ]
    }
   ],
   "source": [
    "# Carregar configurações e resultados\n",
    "with open('config.json') as f:\n",
    "    config = json.load(f)\n",
    "BUCKET     = config['bucket_name']\n",
    "RAW_PREF   = config['pasta_raw']\n",
    "PROC_PREF  = config['pasta_processed']\n",
    "ARCH_PREF  = config['pasta_archive']\n",
    "\n",
    "# Carregar métricas completas\n",
    "df_meta = pd.read_csv('metricas_completas.csv')\n",
    "print(f\"Linhas carregadas: {len(df_meta)} linhas\")\n",
    "\n",
    "# Extrair ID do experimento (único ou usar o primeiro)\n",
    "id_experimento = df_meta['id_experimento'].iloc[0]"
   ]
  },
  {
   "cell_type": "code",
   "execution_count": 4,
   "id": "a81a697b-9d92-4086-b3fd-73c20c92354a",
   "metadata": {
    "editable": true,
    "execution": {
     "iopub.execute_input": "2025-07-18T13:27:39.083638Z",
     "iopub.status.busy": "2025-07-18T13:27:39.083334Z",
     "iopub.status.idle": "2025-07-18T13:27:39.296152Z",
     "shell.execute_reply": "2025-07-18T13:27:39.295365Z",
     "shell.execute_reply.started": "2025-07-18T13:27:39.083610Z"
    },
    "slideshow": {
     "slide_type": ""
    },
    "tags": []
   },
   "outputs": [
    {
     "name": "stdout",
     "output_type": "stream",
     "text": [
      "✓ Métricas enviadas para s3://experimento-lucas-barbosa/processed/exp_005_metricas_20250718_132739.csv\n"
     ]
    }
   ],
   "source": [
    "# Conectar S3 e upload métricas\n",
    "s3 = boto3.client('s3')\n",
    "timestamp = datetime.now().strftime('%Y%m%d_%H%M%S')\n",
    "\n",
    "# Gerar nome seguindo o padrão\n",
    "nome_meta = f\"{id_experimento}_metricas_{timestamp}.csv\"\n",
    "key_meta  = f\"{PROC_PREF}{nome_meta}\"\n",
    "\n",
    "# Salvar localmente e enviar\n",
    "df_meta.to_csv(f\"/tmp/{nome_meta}\", index=False)\n",
    "s3.upload_file(f\"/tmp/{nome_meta}\", BUCKET, key_meta)\n",
    "print(f\"✓ Métricas enviadas para s3://{BUCKET}/{key_meta}\")"
   ]
  },
  {
   "cell_type": "code",
   "execution_count": 5,
   "id": "6b5e3ef1-47d3-4e8e-aaf1-b29fd50fa0fe",
   "metadata": {
    "editable": true,
    "execution": {
     "iopub.execute_input": "2025-07-18T13:27:39.297679Z",
     "iopub.status.busy": "2025-07-18T13:27:39.297131Z",
     "iopub.status.idle": "2025-07-18T13:27:39.324444Z",
     "shell.execute_reply": "2025-07-18T13:27:39.323663Z",
     "shell.execute_reply.started": "2025-07-18T13:27:39.297645Z"
    },
    "slideshow": {
     "slide_type": ""
    },
    "tags": []
   },
   "outputs": [
    {
     "name": "stdout",
     "output_type": "stream",
     "text": [
      "✓ Log salvo em s3://experimento-lucas-barbosa/logs/processamento_exp_005_20250718_132739.json\n"
     ]
    }
   ],
   "source": [
    "# Salvar log de execução\n",
    "log = {\n",
    "    'timestamp': datetime.now().isoformat(),\n",
    "    'metrics_key': key_meta\n",
    "}\n",
    "log_key = f\"logs/processamento_{id_experimento}_{timestamp}.json\"\n",
    "s3.put_object(Bucket=BUCKET, Key=log_key, Body=json.dumps(log, indent=2))\n",
    "print(f\"✓ Log salvo em s3://{BUCKET}/{log_key}\")"
   ]
  },
  {
   "cell_type": "code",
   "execution_count": null,
   "id": "ffb16205-3467-4f92-b3bf-8ff78ed5cd00",
   "metadata": {
    "editable": true,
    "slideshow": {
     "slide_type": ""
    },
    "tags": []
   },
   "outputs": [],
   "source": []
  }
 ],
 "metadata": {
  "kernelspec": {
   "display_name": "Python 3 (ipykernel)",
   "language": "python",
   "name": "python3"
  },
  "language_info": {
   "codemirror_mode": {
    "name": "ipython",
    "version": 3
   },
   "file_extension": ".py",
   "mimetype": "text/x-python",
   "name": "python",
   "nbconvert_exporter": "python",
   "pygments_lexer": "ipython3",
   "version": "3.12.9"
  }
 },
 "nbformat": 4,
 "nbformat_minor": 5
}
