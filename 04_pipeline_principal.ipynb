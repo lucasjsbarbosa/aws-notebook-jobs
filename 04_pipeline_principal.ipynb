{
 "cells": [
  {
   "cell_type": "code",
   "execution_count": 10,
   "id": "4d628f65-e8b9-4608-8eb0-0b0cfdbfce6c",
   "metadata": {
    "execution": {
     "iopub.execute_input": "2025-07-18T13:28:16.397681Z",
     "iopub.status.busy": "2025-07-18T13:28:16.397417Z",
     "iopub.status.idle": "2025-07-18T13:28:16.402221Z",
     "shell.execute_reply": "2025-07-18T13:28:16.401325Z",
     "shell.execute_reply.started": "2025-07-18T13:28:16.397661Z"
    }
   },
   "outputs": [
    {
     "name": "stdout",
     "output_type": "stream",
     "text": [
      "\n",
      "# Pipeline Principal\n",
      "\n",
      "Executa sequencialmente:\n",
      "- 00_config.ipynb\n",
      "- 01_validar_dados.ipynb\n",
      "- 02_calcular_metricas.ipynb\n",
      "- 03_salvar_resultados.ipynb\n",
      "\n"
     ]
    }
   ],
   "source": [
    "#Documentação e Imports\n",
    "doc = \"\"\"\n",
    "# Pipeline Principal\n",
    "\n",
    "Executa sequencialmente:\n",
    "- 00_config.ipynb\n",
    "- 01_validar_dados.ipynb\n",
    "- 02_calcular_metricas.ipynb\n",
    "- 03_salvar_resultados.ipynb\n",
    "\"\"\"\n",
    "print(doc)\n",
    "\n",
    "from datetime import datetime\n",
    "import subprocess"
   ]
  },
  {
   "cell_type": "code",
   "execution_count": 11,
   "id": "9e426c9b-0f61-4953-b0ac-172152d9fa8b",
   "metadata": {
    "execution": {
     "iopub.execute_input": "2025-07-18T13:28:23.753189Z",
     "iopub.status.busy": "2025-07-18T13:28:23.752425Z",
     "iopub.status.idle": "2025-07-18T13:28:23.757300Z",
     "shell.execute_reply": "2025-07-18T13:28:23.756600Z",
     "shell.execute_reply.started": "2025-07-18T13:28:23.753160Z"
    }
   },
   "outputs": [
    {
     "name": "stdout",
     "output_type": "stream",
     "text": [
      "Pipeline iniciado: 2025-07-18 13:28:23.754319\n"
     ]
    }
   ],
   "source": [
    "print(f\"Pipeline iniciado: {datetime.now()}\")"
   ]
  },
  {
   "cell_type": "code",
   "execution_count": 12,
   "id": "e2405f0e-f14a-40ef-8e16-e3d79286af6d",
   "metadata": {
    "execution": {
     "iopub.execute_input": "2025-07-18T13:31:41.287442Z",
     "iopub.status.busy": "2025-07-18T13:31:41.287174Z",
     "iopub.status.idle": "2025-07-18T13:31:41.291804Z",
     "shell.execute_reply": "2025-07-18T13:31:41.291143Z",
     "shell.execute_reply.started": "2025-07-18T13:31:41.287422Z"
    }
   },
   "outputs": [],
   "source": [
    "# Função utilitária que abstrai a execução de um notebook:\n",
    "def run_notebook(input_nb: str, output_nb: str):\n",
    "    print(f\"▶ Executando {input_nb}\")\n",
    "    subprocess.run([\n",
    "        \"jupyter\", \"nbconvert\",\n",
    "        \"--to\", \"notebook\",\n",
    "        \"--execute\", input_nb,\n",
    "        \"--output\", output_nb,\n",
    "        \"--ExecutePreprocessor.timeout=600\"  # timeout em segundos\n",
    "    ], check=True)\n",
    "    print(f\" {input_nb} concluído, resultado em {output_nb}\")"
   ]
  },
  {
   "cell_type": "code",
   "execution_count": 13,
   "id": "131473e9-87d7-4d15-863e-0a836000e766",
   "metadata": {
    "execution": {
     "iopub.execute_input": "2025-07-18T13:31:55.670069Z",
     "iopub.status.busy": "2025-07-18T13:31:55.669204Z",
     "iopub.status.idle": "2025-07-18T13:31:55.673870Z",
     "shell.execute_reply": "2025-07-18T13:31:55.672898Z",
     "shell.execute_reply.started": "2025-07-18T13:31:55.670033Z"
    }
   },
   "outputs": [],
   "source": [
    "# Sequência de Execução\n",
    "steps = [\n",
    "    (\"00_config.ipynb\", \"00_config_executed.ipynb\"),\n",
    "    (\"01_validar_dados.ipynb\", \"01_validar_dados_executed.ipynb\"),\n",
    "    (\"02_calcular_metricas.ipynb\", \"02_calcular_metricas_executed.ipynb\"),\n",
    "    (\"03_salvar_resultados.ipynb\", \"03_salvar_resultados_executed.ipynb\"),\n",
    "]"
   ]
  },
  {
   "cell_type": "code",
   "execution_count": 15,
   "id": "ff906068-2ec4-40f1-91e6-765e538ed572",
   "metadata": {
    "execution": {
     "iopub.execute_input": "2025-07-18T13:33:13.199917Z",
     "iopub.status.busy": "2025-07-18T13:33:13.199293Z",
     "iopub.status.idle": "2025-07-18T13:33:32.606733Z",
     "shell.execute_reply": "2025-07-18T13:33:32.606021Z",
     "shell.execute_reply.started": "2025-07-18T13:33:13.199890Z"
    }
   },
   "outputs": [
    {
     "name": "stdout",
     "output_type": "stream",
     "text": [
      "▶ Executando 00_config.ipynb\n"
     ]
    },
    {
     "name": "stderr",
     "output_type": "stream",
     "text": [
      "[NbConvertApp] Converting notebook 00_config.ipynb to notebook\n",
      "[NbConvertApp] Writing 5106 bytes to 00_config_executed.ipynb\n"
     ]
    },
    {
     "name": "stdout",
     "output_type": "stream",
     "text": [
      " 00_config.ipynb concluído, resultado em 00_config_executed.ipynb\n",
      "▶ Executando 01_validar_dados.ipynb\n"
     ]
    },
    {
     "name": "stderr",
     "output_type": "stream",
     "text": [
      "[NbConvertApp] Converting notebook 01_validar_dados.ipynb to notebook\n",
      "[NbConvertApp] Writing 8131 bytes to 01_validar_dados_executed.ipynb\n"
     ]
    },
    {
     "name": "stdout",
     "output_type": "stream",
     "text": [
      " 01_validar_dados.ipynb concluído, resultado em 01_validar_dados_executed.ipynb\n",
      "▶ Executando 02_calcular_metricas.ipynb\n"
     ]
    },
    {
     "name": "stderr",
     "output_type": "stream",
     "text": [
      "[NbConvertApp] Converting notebook 02_calcular_metricas.ipynb to notebook\n",
      "[NbConvertApp] Writing 6589 bytes to 02_calcular_metricas_executed.ipynb\n"
     ]
    },
    {
     "name": "stdout",
     "output_type": "stream",
     "text": [
      " 02_calcular_metricas.ipynb concluído, resultado em 02_calcular_metricas_executed.ipynb\n",
      "▶ Executando 03_salvar_resultados.ipynb\n"
     ]
    },
    {
     "name": "stderr",
     "output_type": "stream",
     "text": [
      "[NbConvertApp] Converting notebook 03_salvar_resultados.ipynb to notebook\n",
      "[NbConvertApp] Writing 5634 bytes to 03_salvar_resultados_executed.ipynb\n"
     ]
    },
    {
     "name": "stdout",
     "output_type": "stream",
     "text": [
      " 03_salvar_resultados.ipynb concluído, resultado em 03_salvar_resultados_executed.ipynb\n"
     ]
    }
   ],
   "source": [
    "# Loop de Orquestração\\ for input_nb, output_nb in steps:\n",
    "for input_nb, output_nb in steps:\n",
    "    try:\n",
    "        run_notebook(input_nb, output_nb)\n",
    "    except subprocess.CalledProcessError as e:\n",
    "        print(f\"❌ Erro em {input_nb}: {e}\")\n",
    "        raise"
   ]
  },
  {
   "cell_type": "code",
   "execution_count": null,
   "id": "dcb53d5d-b95e-406d-a37e-9c06351dd361",
   "metadata": {},
   "outputs": [],
   "source": []
  }
 ],
 "metadata": {
  "kernelspec": {
   "display_name": "Python 3 (ipykernel)",
   "language": "python",
   "name": "python3"
  },
  "language_info": {
   "codemirror_mode": {
    "name": "ipython",
    "version": 3
   },
   "file_extension": ".py",
   "mimetype": "text/x-python",
   "name": "python",
   "nbconvert_exporter": "python",
   "pygments_lexer": "ipython3",
   "version": "3.12.9"
  }
 },
 "nbformat": 4,
 "nbformat_minor": 5
}
