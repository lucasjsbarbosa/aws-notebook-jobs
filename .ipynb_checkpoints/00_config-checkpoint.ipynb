{
 "cells": [
  {
   "cell_type": "markdown",
   "id": "ce7f57ae-721f-40b9-b3a9-68bc6f1e5a6f",
   "metadata": {},
   "source": [
    "## Configuração do Pipeline de Experimentos"
   ]
  },
  {
   "cell_type": "markdown",
   "id": "7aa1d1db-1952-4d0b-a2be-72faf2e4bcd5",
   "metadata": {
    "execution": {
     "iopub.execute_input": "2025-07-22T13:35:05.187458Z",
     "iopub.status.busy": "2025-07-22T13:35:05.186911Z",
     "iopub.status.idle": "2025-07-22T13:35:05.191583Z",
     "shell.execute_reply": "2025-07-22T13:35:05.190661Z",
     "shell.execute_reply.started": "2025-07-22T13:35:05.187418Z"
    }
   },
   "source": [
    "### Esse notebook define todas as configurações centralizadas do pipe, incluind:"
   ]
  },
  {
   "cell_type": "markdown",
   "id": "3b44a9f2-b59c-47a4-99f6-0002d2b1fd70",
   "metadata": {
    "execution": {
     "iopub.execute_input": "2025-07-22T13:33:55.086998Z",
     "iopub.status.busy": "2025-07-22T13:33:55.086306Z",
     "iopub.status.idle": "2025-07-22T13:33:55.089724Z",
     "shell.execute_reply": "2025-07-22T13:33:55.089080Z",
     "shell.execute_reply.started": "2025-07-22T13:33:55.086968Z"
    }
   },
   "source": [
    "- Configurações de S3 e pastas\n",
    "- Validações do input\n",
    "- Export pra JSON"
   ]
  },
  {
   "cell_type": "code",
   "execution_count": 1,
   "id": "43c74e32-9eac-489a-a6b7-4342c92d4c46",
   "metadata": {
    "editable": true,
    "execution": {
     "iopub.execute_input": "2025-07-22T14:14:45.942397Z",
     "iopub.status.busy": "2025-07-22T14:14:45.938390Z",
     "iopub.status.idle": "2025-07-22T14:14:45.950919Z",
     "shell.execute_reply": "2025-07-22T14:14:45.947803Z",
     "shell.execute_reply.started": "2025-07-22T14:14:45.942351Z"
    },
    "slideshow": {
     "slide_type": ""
    },
    "tags": [
     "parameters"
    ]
   },
   "outputs": [],
   "source": [
    "# Parâmetros do pipeline\"\n",
    "BUCKET_NAME = \"experimento-lucas-barbosa\"\n",
    "PASTA_RAW = \"raw/\"\n",
    "PASTA_PROCESSED = \"processed/\"\n",
    "PASTA_ARCHIVE = \"archive/\"\n",
    "PASTA_ERROR = \"raw/error/\"  # Dentro de raw/\n",
    "COLUNAS_OBRIGATORIAS = [\n",
    "    'id_experimento',\n",
    "    'id_customer',\n",
    "    'grupo',\n",
    "    'uso',\n",
    "    'valor',\n",
    "    'timestamp'\n",
    "]\n",
    "GRUPO_CONTROLE = \"GC\""
   ]
  },
  {
   "cell_type": "code",
   "execution_count": 2,
   "id": "4e08c2f1-aec7-4540-85be-c532ef1e551c",
   "metadata": {
    "editable": true,
    "execution": {
     "iopub.execute_input": "2025-07-22T14:14:45.952326Z",
     "iopub.status.busy": "2025-07-22T14:14:45.952028Z",
     "iopub.status.idle": "2025-07-22T14:14:45.960048Z",
     "shell.execute_reply": "2025-07-22T14:14:45.959358Z",
     "shell.execute_reply.started": "2025-07-22T14:14:45.952293Z"
    },
    "slideshow": {
     "slide_type": ""
    },
    "tags": [
     "parameters"
    ]
   },
   "outputs": [
    {
     "name": "stdout",
     "output_type": "stream",
     "text": [
      "Configurações carregadas:\n",
      "  Raw: s3://experimento-lucas-barbosa/raw/\n",
      "  Processed: s3://experimento-lucas-barbosa/processed/\n",
      "  Archive: s3://experimento-lucas-barbosa/archive/\n"
     ]
    }
   ],
   "source": [
    "S3_RAW_PATH      = f\"s3://{BUCKET_NAME}/{PASTA_RAW}\"\n",
    "S3_PROCESSED_PATH= f\"s3://{BUCKET_NAME}/{PASTA_PROCESSED}\"\n",
    "S3_ARCHIVE_PATH  = f\"s3://{BUCKET_NAME}/{PASTA_ARCHIVE}\"\n",
    "\n",
    "print(\"Configurações carregadas:\")\n",
    "print(f\"  Raw: {S3_RAW_PATH}\")\n",
    "print(f\"  Processed: {S3_PROCESSED_PATH}\")\n",
    "print(f\"  Archive: {S3_ARCHIVE_PATH}\")\n",
    "\n",
    "#METRICAS_CONFIG = {\n",
    "#    'taxa_conversao': 'Percentual de clientes que usaram',\n",
    "#    'uso_medio':     'Média de uso por cliente',\n",
    "#    'valor_medio':   'Valor médio por cliente',\n",
    "#    'ticket_medio':  'Ticket médio (apenas quem gastou)'\n",
    "#}"
   ]
  },
  {
   "cell_type": "code",
   "execution_count": 3,
   "id": "fde787d2-4579-44c7-933b-ebf801ac40e5",
   "metadata": {
    "editable": true,
    "execution": {
     "iopub.execute_input": "2025-07-22T14:14:45.961961Z",
     "iopub.status.busy": "2025-07-22T14:14:45.961646Z",
     "iopub.status.idle": "2025-07-22T14:14:46.305990Z",
     "shell.execute_reply": "2025-07-22T14:14:46.304463Z",
     "shell.execute_reply.started": "2025-07-22T14:14:45.961938Z"
    },
    "slideshow": {
     "slide_type": ""
    },
    "tags": []
   },
   "outputs": [
    {
     "name": "stdout",
     "output_type": "stream",
     "text": [
      "✓ Configurações salvas localmente em 'config.json'\n",
      "✓ Configurações enviadas para s3://experimento-lucas-barbosa/config/config.json\n"
     ]
    }
   ],
   "source": [
    "# Exportar JSON de configs\n",
    "import json\n",
    "import boto3\n",
    "\n",
    "config = {\n",
    "    'bucket_name': BUCKET_NAME,\n",
    "    'pasta_raw': PASTA_RAW,\n",
    "    'pasta_processed': PASTA_PROCESSED,\n",
    "    'pasta_archive': PASTA_ARCHIVE,\n",
    "    'colunas_obrigatorias': COLUNAS_OBRIGATORIAS,\n",
    "    'grupo_controle': GRUPO_CONTROLE,\n",
    "    #'metricas_config': METRICAS_CONFIG\n",
    "}\n",
    "\n",
    "# Salvar localmente\n",
    "with open('config.json', 'w') as f:\n",
    "    json.dump(config, f, indent=2)\n",
    "print(\"✓ Configurações salvas localmente em 'config.json'\")\n",
    "\n",
    "# Fazer upload para S3 (sem try/except)\n",
    "s3_client = boto3.client('s3')\n",
    "s3_client.upload_file('config.json', BUCKET_NAME, 'config/config.json')\n",
    "print(f\"✓ Configurações enviadas para s3://{BUCKET_NAME}/config/config.json\")"
   ]
  },
  {
   "cell_type": "code",
   "execution_count": null,
   "id": "59209c1b-1517-4b4c-9368-1e87c19f7868",
   "metadata": {},
   "outputs": [],
   "source": []
  }
 ],
 "metadata": {
  "kernelspec": {
   "display_name": "Python 3 (ipykernel)",
   "language": "python",
   "name": "python3"
  },
  "language_info": {
   "codemirror_mode": {
    "name": "ipython",
    "version": 3
   },
   "file_extension": ".py",
   "mimetype": "text/x-python",
   "name": "python",
   "nbconvert_exporter": "python",
   "pygments_lexer": "ipython3",
   "version": "3.12.9"
  }
 },
 "nbformat": 4,
 "nbformat_minor": 5
}
