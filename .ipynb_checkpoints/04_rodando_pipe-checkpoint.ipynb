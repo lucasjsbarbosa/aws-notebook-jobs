{
 "cells": [
  {
   "cell_type": "code",
   "execution_count": 1,
   "id": "f380e866-7c33-4eb4-8fdc-edc9ce83a38a",
   "metadata": {
    "editable": true,
    "execution": {
     "iopub.execute_input": "2025-07-22T15:13:26.407059Z",
     "iopub.status.busy": "2025-07-22T15:13:26.406089Z",
     "iopub.status.idle": "2025-07-22T15:13:26.413851Z",
     "shell.execute_reply": "2025-07-22T15:13:26.413052Z",
     "shell.execute_reply.started": "2025-07-22T15:13:26.407025Z"
    },
    "slideshow": {
     "slide_type": ""
    },
    "tags": [
     "parameters"
    ]
   },
   "outputs": [],
   "source": [
    "# Parâmetros do pipeline\n",
    "bucket_name = \"experimento-lucas-barbosa\"  # Nome do bucket S3\n",
    "pipeline_name = \"ExperimentoPipeline\"  # Nome do pipeline\n",
    "instance_type = \"ml.m5.large\"  # Tipo de instância para processamento\n",
    "wait_for_completion = True  # Se deve aguardar conclusão ou executar assíncrono\n",
    "# Notebooks a serem executados\n",
    "config_notebook = \"00_config.ipynb\"\n",
    "validacao_notebook = \"01_validar_dados.ipynb\"\n",
    "metricas_notebook = \"02_calcular_metricas.ipynb\"\n",
    "salvar_notebook = \"03_salvar_resultados.ipynb\""
   ]
  },
  {
   "cell_type": "code",
   "execution_count": 2,
   "id": "871e59a2-b65a-427b-8a64-eca94f7582d3",
   "metadata": {
    "editable": true,
    "execution": {
     "iopub.execute_input": "2025-07-22T15:13:26.415348Z",
     "iopub.status.busy": "2025-07-22T15:13:26.415042Z",
     "iopub.status.idle": "2025-07-22T15:13:28.423072Z",
     "shell.execute_reply": "2025-07-22T15:13:28.422299Z",
     "shell.execute_reply.started": "2025-07-22T15:13:26.415318Z"
    },
    "slideshow": {
     "slide_type": ""
    },
    "tags": []
   },
   "outputs": [
    {
     "name": "stdout",
     "output_type": "stream",
     "text": [
      "sagemaker.config INFO - Not applying SDK defaults from location: /etc/xdg/sagemaker/config.yaml\n",
      "sagemaker.config INFO - Not applying SDK defaults from location: /home/sagemaker-user/.config/sagemaker/config.yaml\n"
     ]
    }
   ],
   "source": [
    "import boto3\n",
    "import sagemaker\n",
    "from sagemaker.session import Session\n",
    "from sagemaker import get_execution_role\n",
    "from sagemaker.workflow.pipeline import Pipeline\n",
    "from sagemaker.workflow.notebook_job_step import NotebookJobStep\n",
    "from sagemaker.processing import ScriptProcessor\n",
    "from datetime import datetime\n",
    "import time"
   ]
  },
  {
   "cell_type": "code",
   "execution_count": 3,
   "id": "aa65565e-2846-4bb6-b49d-454c684c44ef",
   "metadata": {
    "editable": true,
    "execution": {
     "iopub.execute_input": "2025-07-22T15:13:28.424161Z",
     "iopub.status.busy": "2025-07-22T15:13:28.423825Z",
     "iopub.status.idle": "2025-07-22T15:13:28.731460Z",
     "shell.execute_reply": "2025-07-22T15:13:28.730753Z",
     "shell.execute_reply.started": "2025-07-22T15:13:28.424138Z"
    },
    "slideshow": {
     "slide_type": ""
    },
    "tags": []
   },
   "outputs": [
    {
     "name": "stdout",
     "output_type": "stream",
     "text": [
      "🔧 Configuração do ambiente:\n",
      "  Role: arn:aws:iam::657444906686:role/service-role/AmazonSageMaker-ExecutionRole-20250708T150740\n",
      "  Region: sa-east-1\n",
      "  Bucket: experimento-lucas-barbosa\n",
      "  Pipeline: ExperimentoPipeline\n",
      "  Instance type: ml.m5.large\n"
     ]
    }
   ],
   "source": [
    "# Configuração inicial\n",
    "sess = Session()\n",
    "role = get_execution_role()\n",
    "region = sess.boto_region_name\n",
    "bucket = bucket_name\n",
    "\n",
    "print(f\"🔧 Configuração do ambiente:\")\n",
    "print(f\"  Role: {role}\")\n",
    "print(f\"  Region: {region}\")\n",
    "print(f\"  Bucket: {bucket}\")\n",
    "print(f\"  Pipeline: {pipeline_name}\")\n",
    "print(f\"  Instance type: {instance_type}\")"
   ]
  },
  {
   "cell_type": "code",
   "execution_count": 4,
   "id": "80ac1eed-0c8d-4008-b61a-89c97df52064",
   "metadata": {
    "editable": true,
    "execution": {
     "iopub.execute_input": "2025-07-22T15:13:28.733146Z",
     "iopub.status.busy": "2025-07-22T15:13:28.732790Z",
     "iopub.status.idle": "2025-07-22T15:13:28.738031Z",
     "shell.execute_reply": "2025-07-22T15:13:28.737154Z",
     "shell.execute_reply.started": "2025-07-22T15:13:28.733117Z"
    },
    "slideshow": {
     "slide_type": ""
    },
    "tags": []
   },
   "outputs": [],
   "source": [
    "# Para sa-east-1 - SageMaker Distribution\n",
    "image_uri = \"567556641782.dkr.ecr.sa-east-1.amazonaws.com/sagemaker-distribution-prod:1-cpu\""
   ]
  },
  {
   "cell_type": "code",
   "execution_count": 5,
   "id": "86e36636-300a-4dbd-ad7c-d3a3e4ef2230",
   "metadata": {
    "editable": true,
    "execution": {
     "iopub.execute_input": "2025-07-22T15:13:28.740732Z",
     "iopub.status.busy": "2025-07-22T15:13:28.738818Z",
     "iopub.status.idle": "2025-07-22T15:13:28.745807Z",
     "shell.execute_reply": "2025-07-22T15:13:28.745208Z",
     "shell.execute_reply.started": "2025-07-22T15:13:28.740707Z"
    },
    "slideshow": {
     "slide_type": ""
    },
    "tags": []
   },
   "outputs": [
    {
     "name": "stdout",
     "output_type": "stream",
     "text": [
      "✓ Etapa 1 (Config) definida\n",
      "  Notebook: 00_config.ipynb\n",
      "  Parâmetros: bucket=experimento-lucas-barbosa\n"
     ]
    }
   ],
   "source": [
    "# Etapa 1: Configuração\n",
    "# Gera o arquivo config.json com as configurações do experimento\n",
    "step_config = NotebookJobStep(\n",
    "    name=\"ConfigStep\",\n",
    "    notebook_job_name=f\"config-job-{int(time.time())}\",\n",
    "    input_notebook=config_notebook,\n",
    "    image_uri=image_uri,\n",
    "    role=role,\n",
    "    instance_type=instance_type,\n",
    "    kernel_name=\"python3\",\n",
    "    parameters={\n",
    "        \"BUCKET_NAME\": bucket_name,\n",
    "        \"PASTA_RAW\": \"raw/\",\n",
    "        \"PASTA_PROCESSED\": \"processed/\",\n",
    "        \"PASTA_ARCHIVE\": \"archive/\"\n",
    "    }\n",
    ")\n",
    "\n",
    "print(\"✓ Etapa 1 (Config) definida\")\n",
    "print(f\"  Notebook: {config_notebook}\")\n",
    "print(f\"  Parâmetros: bucket={bucket_name}\")"
   ]
  },
  {
   "cell_type": "code",
   "execution_count": 6,
   "id": "4da5ee2f-6836-45c9-a670-099bd9cff8a3",
   "metadata": {
    "editable": true,
    "execution": {
     "iopub.execute_input": "2025-07-22T15:13:28.748739Z",
     "iopub.status.busy": "2025-07-22T15:13:28.748458Z",
     "iopub.status.idle": "2025-07-22T15:13:28.754834Z",
     "shell.execute_reply": "2025-07-22T15:13:28.754236Z",
     "shell.execute_reply.started": "2025-07-22T15:13:28.748718Z"
    },
    "slideshow": {
     "slide_type": ""
    },
    "tags": []
   },
   "outputs": [
    {
     "name": "stdout",
     "output_type": "stream",
     "text": [
      "✓ Etapa 2 (Validação) definida\n",
      "  Notebook: 01_validar_dados.ipynb\n",
      "  Depende de: ConfigStep\n"
     ]
    }
   ],
   "source": [
    "# Etapa 2: Validação de dados\n",
    "# Valida arquivos CSV na pasta raw/ e prepara para processamento\n",
    "step_validacao = NotebookJobStep(\n",
    "    name=\"ValidacaoStep\",\n",
    "    notebook_job_name=f\"validacao-job-{int(time.time())}\",\n",
    "    input_notebook=validacao_notebook,\n",
    "    image_uri=image_uri,\n",
    "    role=role,\n",
    "    instance_type=instance_type,\n",
    "    kernel_name=\"python3\",\n",
    "    parameters={\n",
    "        \"input_config_path\": \"config.json\",\n",
    "        \"bucket_name\": bucket_name,\n",
    "        \"pasta_raw\": \"raw/\",\n",
    "        \"output_validation_file\": \"validacao_resultado.json\"\n",
    "    }\n",
    ")\n",
    "\n",
    "print(\"✓ Etapa 2 (Validação) definida\")\n",
    "print(f\"  Notebook: {validacao_notebook}\")\n",
    "print(f\"  Depende de: ConfigStep\")"
   ]
  },
  {
   "cell_type": "code",
   "execution_count": 7,
   "id": "43d65b0b-4341-4fe7-aa07-45b5968dfdb9",
   "metadata": {
    "editable": true,
    "execution": {
     "iopub.execute_input": "2025-07-22T15:13:28.757036Z",
     "iopub.status.busy": "2025-07-22T15:13:28.756724Z",
     "iopub.status.idle": "2025-07-22T15:13:28.762764Z",
     "shell.execute_reply": "2025-07-22T15:13:28.761861Z",
     "shell.execute_reply.started": "2025-07-22T15:13:28.756936Z"
    },
    "slideshow": {
     "slide_type": ""
    },
    "tags": []
   },
   "outputs": [
    {
     "name": "stdout",
     "output_type": "stream",
     "text": [
      "✓ Etapa 3 (Métricas) definida\n",
      "  Notebook: 02_calcular_metricas.ipynb\n",
      "  Depende de: ValidacaoStep\n"
     ]
    }
   ],
   "source": [
    "# Etapa 3: Cálculo de métricas\n",
    "# Calcula métricas básicas e lift para cada grupo do experimento\n",
    "step_metricas = NotebookJobStep(\n",
    "    name=\"MetricasStep\",\n",
    "    notebook_job_name=f\"metricas-job-{int(time.time())}\",\n",
    "    input_notebook=metricas_notebook,\n",
    "    image_uri=image_uri,\n",
    "    role=role,\n",
    "    instance_type=instance_type,\n",
    "    kernel_name=\"python3\",\n",
    "    parameters={\n",
    "        \"input_config_path\": \"config.json\",\n",
    "        \"input_validacao_path\": \"validacao_resultado.json\",\n",
    "        \"output_metricas_path\": \"metricas_completas.csv\"\n",
    "    }\n",
    ")\n",
    "\n",
    "print(\"✓ Etapa 3 (Métricas) definida\")\n",
    "print(f\"  Notebook: {metricas_notebook}\")\n",
    "print(f\"  Depende de: ValidacaoStep\")"
   ]
  },
  {
   "cell_type": "code",
   "execution_count": 8,
   "id": "632a74e0-348e-40c4-a8bd-4d770ddd4c2c",
   "metadata": {
    "editable": true,
    "execution": {
     "iopub.execute_input": "2025-07-22T15:13:28.764535Z",
     "iopub.status.busy": "2025-07-22T15:13:28.763921Z",
     "iopub.status.idle": "2025-07-22T15:13:28.770333Z",
     "shell.execute_reply": "2025-07-22T15:13:28.769678Z",
     "shell.execute_reply.started": "2025-07-22T15:13:28.764510Z"
    },
    "slideshow": {
     "slide_type": ""
    },
    "tags": []
   },
   "outputs": [
    {
     "name": "stdout",
     "output_type": "stream",
     "text": [
      "✓ Etapa 4 (Salvar) definida\n",
      "  Notebook: 03_salvar_resultados.ipynb\n",
      "  Depende de: MetricasStep\n"
     ]
    }
   ],
   "source": [
    "# Etapa 4: Salvar resultados\n",
    "# Salva métricas finais no S3 e gera logs de execução\n",
    "step_salvar = NotebookJobStep(\n",
    "    name=\"SalvarStep\",\n",
    "    notebook_job_name=f\"salvar-job-{int(time.time())}\",\n",
    "    input_notebook=salvar_notebook,\n",
    "    image_uri=image_uri,\n",
    "    role=role,\n",
    "    instance_type=instance_type,\n",
    "    kernel_name=\"python3\",\n",
    "    parameters={\n",
    "        \"input_config_path\": \"config.json\",\n",
    "        \"input_metricas_path\": \"metricas_completas.csv\",\n",
    "        \"bucket_name\": bucket_name,\n",
    "        \"pasta_processed\": \"processed/\",\n",
    "        \"pasta_logs\": \"logs/\"\n",
    "    }\n",
    ")\n",
    "\n",
    "print(\"✓ Etapa 4 (Salvar) definida\")\n",
    "print(f\"  Notebook: {salvar_notebook}\")\n",
    "print(f\"  Depende de: MetricasStep\")"
   ]
  },
  {
   "cell_type": "code",
   "execution_count": 9,
   "id": "60386b6e-bbcd-4913-af0c-740356b962e5",
   "metadata": {
    "editable": true,
    "execution": {
     "iopub.execute_input": "2025-07-22T15:13:28.771950Z",
     "iopub.status.busy": "2025-07-22T15:13:28.771393Z",
     "iopub.status.idle": "2025-07-22T15:13:28.777406Z",
     "shell.execute_reply": "2025-07-22T15:13:28.776612Z",
     "shell.execute_reply.started": "2025-07-22T15:13:28.771920Z"
    },
    "slideshow": {
     "slide_type": ""
    },
    "tags": []
   },
   "outputs": [
    {
     "name": "stdout",
     "output_type": "stream",
     "text": [
      "✓ Dependências configuradas:\n",
      "  ConfigStep → ValidacaoStep → MetricasStep → SalvarStep\n"
     ]
    }
   ],
   "source": [
    "# Definir dependências entre etapas\n",
    "step_validacao.add_depends_on([step_config])\n",
    "step_metricas.add_depends_on([step_validacao])\n",
    "step_salvar.add_depends_on([step_metricas])\n",
    "\n",
    "print(\"✓ Dependências configuradas:\")\n",
    "print(\"  ConfigStep → ValidacaoStep → MetricasStep → SalvarStep\")"
   ]
  },
  {
   "cell_type": "code",
   "execution_count": 10,
   "id": "a47e897f-535b-4219-809f-28cfaef661cd",
   "metadata": {
    "editable": true,
    "execution": {
     "iopub.execute_input": "2025-07-22T15:13:28.779590Z",
     "iopub.status.busy": "2025-07-22T15:13:28.779221Z",
     "iopub.status.idle": "2025-07-22T15:13:28.793423Z",
     "shell.execute_reply": "2025-07-22T15:13:28.792534Z",
     "shell.execute_reply.started": "2025-07-22T15:13:28.779567Z"
    },
    "slideshow": {
     "slide_type": ""
    },
    "tags": []
   },
   "outputs": [
    {
     "name": "stdout",
     "output_type": "stream",
     "text": [
      "Pipeline criado com sucesso\n",
      "  Nome: ExperimentoPipeline\n",
      "  Etapas: 4\n",
      "  Sessão: sa-east-1\n",
      "\n",
      " Resumo das etapas:\n",
      "  1. ConfigStep\n",
      "  2. ValidacaoStep\n",
      "  3. MetricasStep\n",
      "  4. SalvarStep\n"
     ]
    }
   ],
   "source": [
    "# Criar o pipeline\n",
    "pipeline = Pipeline(\n",
    "    name=pipeline_name,\n",
    "    steps=[\n",
    "        step_config,\n",
    "        step_validacao,\n",
    "        step_metricas,\n",
    "        step_salvar\n",
    "    ],\n",
    "    sagemaker_session=sess\n",
    ")\n",
    "\n",
    "print(\"Pipeline criado com sucesso\")\n",
    "print(f\"  Nome: {pipeline.name}\")\n",
    "print(f\"  Etapas: {len(pipeline.steps)}\")\n",
    "print(f\"  Sessão: {sess.boto_region_name}\")\n",
    "\n",
    "# Mostrar resumo das etapas\n",
    "print(\"\\n Resumo das etapas:\")\n",
    "for i, step in enumerate(pipeline.steps, 1):\n",
    "    print(f\"  {i}. {step.name}\")"
   ]
  },
  {
   "cell_type": "code",
   "execution_count": 11,
   "id": "00855662-12ea-4996-ab3d-57ab9c9cb900",
   "metadata": {
    "editable": true,
    "execution": {
     "iopub.execute_input": "2025-07-22T15:13:28.794830Z",
     "iopub.status.busy": "2025-07-22T15:13:28.794516Z",
     "iopub.status.idle": "2025-07-22T15:27:03.231700Z",
     "shell.execute_reply": "2025-07-22T15:27:03.230920Z",
     "shell.execute_reply.started": "2025-07-22T15:13:28.794802Z"
    },
    "slideshow": {
     "slide_type": ""
    },
    "tags": []
   },
   "outputs": [
    {
     "name": "stdout",
     "output_type": "stream",
     "text": [
      "Registrando pipeline no SageMaker...\n",
      "Pipeline registrado no SageMaker\n",
      "Iniciando execução manual do pipeline...\n",
      "Execução iniciada: arn:aws:sagemaker:sa-east-1:657444906686:pipeline/ExperimentoPipeline/execution/b6px2j7hwud8\n",
      "Aguardando conclusão do pipeline...\n",
      "   Status: Executing (tempo: 0s)\n",
      "   Status: Executing (tempo: 30s)\n",
      "   Status: Executing (tempo: 60s)\n",
      "   Status: Executing (tempo: 90s)\n",
      "   Status: Executing (tempo: 120s)\n",
      "   Status: Executing (tempo: 150s)\n",
      "   Status: Executing (tempo: 180s)\n",
      "   Status: Executing (tempo: 210s)\n",
      "   Status: Executing (tempo: 240s)\n",
      "   Status: Executing (tempo: 270s)\n",
      "   Status: Executing (tempo: 301s)\n",
      "   Status: Executing (tempo: 331s)\n",
      "   Status: Executing (tempo: 361s)\n",
      "   Status: Executing (tempo: 391s)\n",
      "   Status: Executing (tempo: 421s)\n",
      "   Status: Executing (tempo: 451s)\n",
      "   Status: Executing (tempo: 481s)\n",
      "   Status: Executing (tempo: 511s)\n",
      "   Status: Executing (tempo: 541s)\n",
      "   Status: Executing (tempo: 571s)\n",
      "   Status: Executing (tempo: 602s)\n",
      "   Status: Executing (tempo: 632s)\n",
      "   Status: Executing (tempo: 662s)\n",
      "   Status: Executing (tempo: 692s)\n",
      "   Status: Executing (tempo: 722s)\n",
      "   Status: Executing (tempo: 752s)\n",
      "   Status: Executing (tempo: 782s)\n",
      "   Status: Succeeded (tempo: 812s)\n",
      "✅ Pipeline concluído com sucesso!\n"
     ]
    }
   ],
   "source": [
    "# Registrar o pipeline no SageMaker\n",
    "print(\"Registrando pipeline no SageMaker...\")\n",
    "pipeline.upsert(role_arn=role)\n",
    "print(\"Pipeline registrado no SageMaker\")\n",
    "\n",
    "# Iniciar execução manual\n",
    "print(\"Iniciando execução manual do pipeline...\")\n",
    "execution = pipeline.start()\n",
    "print(f\"Execução iniciada: {execution.arn}\")\n",
    "\n",
    "# Aguardar conclusão se solicitado\n",
    "if wait_for_completion:\n",
    "    print(\"Aguardando conclusão do pipeline...\")\n",
    "    \n",
    "    # Monitorar progresso\n",
    "    start_time = time.time()\n",
    "    while True:\n",
    "        status = execution.describe()['PipelineExecutionStatus']\n",
    "        elapsed = int(time.time() - start_time)\n",
    "        print(f\"   Status: {status} (tempo: {elapsed}s)\")\n",
    "        \n",
    "        if status in ['Succeeded', 'Failed', 'Stopped']:\n",
    "            break\n",
    "            \n",
    "        time.sleep(30)  # Cooldown\n",
    "    \n",
    "    final_status = execution.describe()['PipelineExecutionStatus']\n",
    "    if final_status == 'Succeeded':\n",
    "        print(f\"✅ Pipeline concluído com sucesso!\")\n",
    "    else:\n",
    "        print(f\"❌ Pipeline falhou com status: {final_status}\")\n",
    "        \n",
    "else:\n",
    "    print(\"Pipeline executando em modo assíncrono\")\n",
    "    print(f\"   Acompanhe o progresso no SageMaker Studio\")\n",
    "    print(f\"   ARN: {execution.arn}\")"
   ]
  },
  {
   "cell_type": "code",
   "execution_count": 12,
   "id": "02b63767-0527-4a16-90b6-6b65b6410962",
   "metadata": {
    "editable": true,
    "execution": {
     "iopub.execute_input": "2025-07-22T15:27:03.233388Z",
     "iopub.status.busy": "2025-07-22T15:27:03.232871Z",
     "iopub.status.idle": "2025-07-22T15:27:03.641122Z",
     "shell.execute_reply": "2025-07-22T15:27:03.639922Z",
     "shell.execute_reply.started": "2025-07-22T15:27:03.233356Z"
    },
    "slideshow": {
     "slide_type": ""
    },
    "tags": []
   },
   "outputs": [
    {
     "name": "stdout",
     "output_type": "stream",
     "text": [
      "Configurando agendamento automático...\n"
     ]
    },
    {
     "data": {
      "text/html": [
       "<pre style=\"white-space:pre;overflow-x:auto;line-height:normal;font-family:Menlo,'DejaVu Sans Mono',consolas,'Courier New',monospace\"><span style=\"color: #ff0000; text-decoration-color: #ff0000\">╭─────────────────────────────── </span><span style=\"color: #ff0000; text-decoration-color: #ff0000; font-weight: bold\">Traceback </span><span style=\"color: #ff7f7f; text-decoration-color: #ff7f7f; font-weight: bold\">(most recent call last)</span><span style=\"color: #ff0000; text-decoration-color: #ff0000\"> ────────────────────────────────╮</span>\n",
       "<span style=\"color: #ff0000; text-decoration-color: #ff0000\">│</span> in &lt;module&gt;:24                                                                                   <span style=\"color: #ff0000; text-decoration-color: #ff0000\">│</span>\n",
       "<span style=\"color: #ff0000; text-decoration-color: #ff0000\">│</span>                                                                                                  <span style=\"color: #ff0000; text-decoration-color: #ff0000\">│</span>\n",
       "<span style=\"color: #ff0000; text-decoration-color: #ff0000\">│</span>   <span style=\"color: #7f7f7f; text-decoration-color: #7f7f7f\">21 </span><span style=\"color: #7f7f7f; text-decoration-color: #7f7f7f\">│   </span>Targets=[                                                                               <span style=\"color: #ff0000; text-decoration-color: #ff0000\">│</span>\n",
       "<span style=\"color: #ff0000; text-decoration-color: #ff0000\">│</span>   <span style=\"color: #7f7f7f; text-decoration-color: #7f7f7f\">22 </span><span style=\"color: #7f7f7f; text-decoration-color: #7f7f7f\">│   │   </span>{                                                                                   <span style=\"color: #ff0000; text-decoration-color: #ff0000\">│</span>\n",
       "<span style=\"color: #ff0000; text-decoration-color: #ff0000\">│</span>   <span style=\"color: #7f7f7f; text-decoration-color: #7f7f7f\">23 </span><span style=\"color: #7f7f7f; text-decoration-color: #7f7f7f\">│   │   │   </span><span style=\"color: #808000; text-decoration-color: #808000\">'Id'</span>: <span style=\"color: #808000; text-decoration-color: #808000\">'1'</span>,                                                                      <span style=\"color: #ff0000; text-decoration-color: #ff0000\">│</span>\n",
       "<span style=\"color: #ff0000; text-decoration-color: #ff0000\">│</span> <span style=\"color: #800000; text-decoration-color: #800000\">❱ </span>24 <span style=\"color: #7f7f7f; text-decoration-color: #7f7f7f\">│   │   │   </span><span style=\"color: #808000; text-decoration-color: #808000\">'Arn'</span>: <span style=\"color: #808000; text-decoration-color: #808000\">f'arn:aws:sagemaker:{</span>region<span style=\"color: #808000; text-decoration-color: #808000\">}:{</span><span style=\"font-weight: bold; text-decoration: underline\">account_id</span><span style=\"color: #808000; text-decoration-color: #808000\">}:pipeline/{</span>pipeline_name<span style=\"color: #808000; text-decoration-color: #808000\">}'</span>,     <span style=\"color: #ff0000; text-decoration-color: #ff0000\">│</span>\n",
       "<span style=\"color: #ff0000; text-decoration-color: #ff0000\">│</span>   <span style=\"color: #7f7f7f; text-decoration-color: #7f7f7f\">25 </span><span style=\"color: #7f7f7f; text-decoration-color: #7f7f7f\">│   │   │   </span><span style=\"color: #808000; text-decoration-color: #808000\">'RoleArn'</span>: role,                                                                <span style=\"color: #ff0000; text-decoration-color: #ff0000\">│</span>\n",
       "<span style=\"color: #ff0000; text-decoration-color: #ff0000\">│</span>   <span style=\"color: #7f7f7f; text-decoration-color: #7f7f7f\">26 </span><span style=\"color: #7f7f7f; text-decoration-color: #7f7f7f\">│   │   │   </span><span style=\"color: #808000; text-decoration-color: #808000\">'SageMakerPipelineParameters'</span>: {                                                <span style=\"color: #ff0000; text-decoration-color: #ff0000\">│</span>\n",
       "<span style=\"color: #ff0000; text-decoration-color: #ff0000\">│</span>   <span style=\"color: #7f7f7f; text-decoration-color: #7f7f7f\">27 </span><span style=\"color: #7f7f7f; text-decoration-color: #7f7f7f\">│   │   │   │   </span><span style=\"color: #808000; text-decoration-color: #808000\">'PipelineParameterList'</span>: []                                                 <span style=\"color: #ff0000; text-decoration-color: #ff0000\">│</span>\n",
       "<span style=\"color: #ff0000; text-decoration-color: #ff0000\">╰──────────────────────────────────────────────────────────────────────────────────────────────────╯</span>\n",
       "<span style=\"color: #ff0000; text-decoration-color: #ff0000; font-weight: bold\">NameError: </span>name <span style=\"color: #008700; text-decoration-color: #008700\">'account_id'</span> is not defined\n",
       "</pre>\n"
      ],
      "text/plain": [
       "\u001b[38;2;255;0;0m╭─\u001b[0m\u001b[38;2;255;0;0m──────────────────────────────\u001b[0m\u001b[38;2;255;0;0m \u001b[0m\u001b[1;38;2;255;0;0mTraceback \u001b[0m\u001b[1;2;38;2;255;0;0m(most recent call last)\u001b[0m\u001b[38;2;255;0;0m \u001b[0m\u001b[38;2;255;0;0m───────────────────────────────\u001b[0m\u001b[38;2;255;0;0m─╮\u001b[0m\n",
       "\u001b[38;2;255;0;0m│\u001b[0m in <module>:24                                                                                   \u001b[38;2;255;0;0m│\u001b[0m\n",
       "\u001b[38;2;255;0;0m│\u001b[0m                                                                                                  \u001b[38;2;255;0;0m│\u001b[0m\n",
       "\u001b[38;2;255;0;0m│\u001b[0m   \u001b[2m21 \u001b[0m\u001b[2m│   \u001b[0mTargets=[                                                                               \u001b[38;2;255;0;0m│\u001b[0m\n",
       "\u001b[38;2;255;0;0m│\u001b[0m   \u001b[2m22 \u001b[0m\u001b[2m│   │   \u001b[0m{                                                                                   \u001b[38;2;255;0;0m│\u001b[0m\n",
       "\u001b[38;2;255;0;0m│\u001b[0m   \u001b[2m23 \u001b[0m\u001b[2m│   │   │   \u001b[0m\u001b[33m'\u001b[0m\u001b[33mId\u001b[0m\u001b[33m'\u001b[0m: \u001b[33m'\u001b[0m\u001b[33m1\u001b[0m\u001b[33m'\u001b[0m,                                                                      \u001b[38;2;255;0;0m│\u001b[0m\n",
       "\u001b[38;2;255;0;0m│\u001b[0m \u001b[31m❱ \u001b[0m24 \u001b[2m│   │   │   \u001b[0m\u001b[33m'\u001b[0m\u001b[33mArn\u001b[0m\u001b[33m'\u001b[0m: \u001b[33mf\u001b[0m\u001b[33m'\u001b[0m\u001b[33marn:aws:sagemaker:\u001b[0m\u001b[33m{\u001b[0mregion\u001b[33m}\u001b[0m\u001b[33m:\u001b[0m\u001b[33m{\u001b[0m\u001b[1;4maccount_id\u001b[0m\u001b[33m}\u001b[0m\u001b[33m:pipeline/\u001b[0m\u001b[33m{\u001b[0mpipeline_name\u001b[33m}\u001b[0m\u001b[33m'\u001b[0m,     \u001b[38;2;255;0;0m│\u001b[0m\n",
       "\u001b[38;2;255;0;0m│\u001b[0m   \u001b[2m25 \u001b[0m\u001b[2m│   │   │   \u001b[0m\u001b[33m'\u001b[0m\u001b[33mRoleArn\u001b[0m\u001b[33m'\u001b[0m: role,                                                                \u001b[38;2;255;0;0m│\u001b[0m\n",
       "\u001b[38;2;255;0;0m│\u001b[0m   \u001b[2m26 \u001b[0m\u001b[2m│   │   │   \u001b[0m\u001b[33m'\u001b[0m\u001b[33mSageMakerPipelineParameters\u001b[0m\u001b[33m'\u001b[0m: {                                                \u001b[38;2;255;0;0m│\u001b[0m\n",
       "\u001b[38;2;255;0;0m│\u001b[0m   \u001b[2m27 \u001b[0m\u001b[2m│   │   │   │   \u001b[0m\u001b[33m'\u001b[0m\u001b[33mPipelineParameterList\u001b[0m\u001b[33m'\u001b[0m: []                                                 \u001b[38;2;255;0;0m│\u001b[0m\n",
       "\u001b[38;2;255;0;0m╰──────────────────────────────────────────────────────────────────────────────────────────────────╯\u001b[0m\n",
       "\u001b[1;91mNameError: \u001b[0mname \u001b[38;2;0;135;0m'account_id'\u001b[0m is not defined\n"
      ]
     },
     "metadata": {},
     "output_type": "display_data"
    }
   ],
   "source": [
    "# Configurar agendamento automático a cada 12 horas - VERSÃO SIMPLES\n",
    "print(\"Configurando agendamento automático...\")\n",
    "\n",
    "# Usar EventBridge Rules (mais simples que Scheduler)\n",
    "events_client = boto3.client('events', region_name=region)\n",
    "\n",
    "# Nome da regra\n",
    "rule_name = f\"{pipeline_name}-schedule-12h\"\n",
    "\n",
    "# Criar regra com cron\n",
    "events_client.put_rule(\n",
    "    Name=rule_name,\n",
    "    ScheduleExpression=\"cron(0 0,12 * * ? *)\",  # A cada 12 horas\n",
    "    Description=\"Executa pipeline ExperimentoPipeline a cada 12 horas\",\n",
    "    State='ENABLED'\n",
    ")\n",
    "\n",
    "# Adicionar target (SageMaker Pipeline)\n",
    "events_client.put_targets(\n",
    "    Rule=rule_name,\n",
    "    Targets=[\n",
    "        {\n",
    "            'Id': '1',\n",
    "            'Arn': f'arn:aws:sagemaker:{region}:{account_id}:pipeline/{pipeline_name}',\n",
    "            'RoleArn': role,\n",
    "            'SageMakerPipelineParameters': {\n",
    "                'PipelineParameterList': []\n",
    "            }\n",
    "        }\n",
    "    ]\n",
    ")"
   ]
  },
  {
   "cell_type": "code",
   "execution_count": null,
   "id": "2e14d244-6398-4dfd-ab0d-8df97f497faf",
   "metadata": {},
   "outputs": [],
   "source": []
  }
 ],
 "metadata": {
  "kernelspec": {
   "display_name": "Python 3 (ipykernel)",
   "language": "python",
   "name": "python3"
  },
  "language_info": {
   "codemirror_mode": {
    "name": "ipython",
    "version": 3
   },
   "file_extension": ".py",
   "mimetype": "text/x-python",
   "name": "python",
   "nbconvert_exporter": "python",
   "pygments_lexer": "ipython3",
   "version": "3.12.9"
  }
 },
 "nbformat": 4,
 "nbformat_minor": 5
}
