{
 "cells": [
  {
   "cell_type": "code",
   "execution_count": 1,
   "id": "2b9ac32d-63ab-447f-a786-cff126ba187d",
   "metadata": {
    "editable": true,
    "execution": {
     "iopub.execute_input": "2025-07-22T14:14:51.606528Z",
     "iopub.status.busy": "2025-07-22T14:14:51.606101Z",
     "iopub.status.idle": "2025-07-22T14:14:51.609847Z",
     "shell.execute_reply": "2025-07-22T14:14:51.609147Z",
     "shell.execute_reply.started": "2025-07-22T14:14:51.606504Z"
    },
    "slideshow": {
     "slide_type": ""
    },
    "tags": [
     "parameters"
    ]
   },
   "outputs": [],
   "source": [
    "# Parâmetros do pipeline\n",
    "bucket_name = 'experimento-lucas-barbosa'\n",
    "input_config_path = 'config.json'\n",
    "output_validation_file = 'validacao_resultado.json'\n",
    "pasta_raw = 'raw/'"
   ]
  },
  {
   "cell_type": "code",
   "execution_count": 2,
   "id": "f5e361f7-b71a-4950-91f2-c7190e814ec7",
   "metadata": {
    "editable": true,
    "execution": {
     "iopub.execute_input": "2025-07-22T14:14:51.611135Z",
     "iopub.status.busy": "2025-07-22T14:14:51.610717Z",
     "iopub.status.idle": "2025-07-22T14:14:52.156985Z",
     "shell.execute_reply": "2025-07-22T14:14:52.156279Z",
     "shell.execute_reply.started": "2025-07-22T14:14:51.611111Z"
    },
    "slideshow": {
     "slide_type": ""
    },
    "tags": []
   },
   "outputs": [],
   "source": [
    "import boto3\n",
    "import pandas as pd\n",
    "import json\n",
    "import os\n",
    "from datetime import datetime"
   ]
  },
  {
   "cell_type": "code",
   "execution_count": 3,
   "id": "1cbf4d82-7129-48b0-90e1-f23166c94e27",
   "metadata": {
    "editable": true,
    "execution": {
     "iopub.execute_input": "2025-07-22T14:14:52.158392Z",
     "iopub.status.busy": "2025-07-22T14:14:52.157979Z",
     "iopub.status.idle": "2025-07-22T14:14:52.162441Z",
     "shell.execute_reply": "2025-07-22T14:14:52.161728Z",
     "shell.execute_reply.started": "2025-07-22T14:14:52.158362Z"
    },
    "slideshow": {
     "slide_type": ""
    },
    "tags": []
   },
   "outputs": [
    {
     "name": "stdout",
     "output_type": "stream",
     "text": [
      "Início da validação: 2025-07-22 14:14:52.159581\n",
      "Usando configuração: config.json\n",
      "Bucket: experimento-lucas-barbosa\n"
     ]
    }
   ],
   "source": [
    "print(f\"Início da validação: {datetime.now()}\")\n",
    "print(f\"Usando configuração: {input_config_path}\")\n",
    "print(f\"Bucket: {bucket_name}\")"
   ]
  },
  {
   "cell_type": "code",
   "execution_count": 4,
   "id": "8fa61413-9bb2-4983-984b-95bec5072ccf",
   "metadata": {
    "editable": true,
    "execution": {
     "iopub.execute_input": "2025-07-22T14:14:52.163927Z",
     "iopub.status.busy": "2025-07-22T14:14:52.163438Z",
     "iopub.status.idle": "2025-07-22T14:14:52.353927Z",
     "shell.execute_reply": "2025-07-22T14:14:52.353184Z",
     "shell.execute_reply.started": "2025-07-22T14:14:52.163898Z"
    },
    "slideshow": {
     "slide_type": ""
    },
    "tags": []
   },
   "outputs": [
    {
     "name": "stdout",
     "output_type": "stream",
     "text": [
      "Configuração carregada: {'bucket_name': 'experimento-lucas-barbosa', 'pasta_raw': 'raw/', 'pasta_processed': 'processed/', 'pasta_archive': 'archive/', 'colunas_obrigatorias': ['id_experimento', 'id_customer', 'grupo', 'uso', 'valor', 'timestamp'], 'grupo_controle': 'GC'}\n",
      "Colunas obrigatórias: ['id_experimento', 'id_customer', 'grupo', 'uso', 'valor', 'timestamp']\n",
      "Grupo controle: GC\n"
     ]
    }
   ],
   "source": [
    "# Baixar e carregar configuração\n",
    "s3 = boto3.client('s3')\n",
    "s3.download_file('experimento-lucas-barbosa', 'config/config.json', 'config.json')\n",
    "\n",
    "with open('config.json', 'r') as f:\n",
    "    config = json.load(f)\n",
    "\n",
    "print(f\"Configuração carregada: {config}\")\n",
    "\n",
    "# Extrair variáveis do config para usar nas funções\n",
    "COLUNAS_OBRIGATORIAS = config['colunas_obrigatorias']\n",
    "GRUPO_CONTROLE = config['grupo_controle']\n",
    "print(f\"Colunas obrigatórias: {COLUNAS_OBRIGATORIAS}\")\n",
    "print(f\"Grupo controle: {GRUPO_CONTROLE}\")"
   ]
  },
  {
   "cell_type": "code",
   "execution_count": 5,
   "id": "664b5833-68d8-47aa-b64b-e8c29a1236ef",
   "metadata": {
    "editable": true,
    "execution": {
     "iopub.execute_input": "2025-07-22T14:14:52.355170Z",
     "iopub.status.busy": "2025-07-22T14:14:52.354760Z",
     "iopub.status.idle": "2025-07-22T14:14:52.360372Z",
     "shell.execute_reply": "2025-07-22T14:14:52.359570Z",
     "shell.execute_reply.started": "2025-07-22T14:14:52.355144Z"
    },
    "slideshow": {
     "slide_type": ""
    },
    "tags": []
   },
   "outputs": [],
   "source": [
    "# Função para validar arquivo\n",
    "def validar_arquivo(df, nome):\n",
    "    erros = []\n",
    "    \n",
    "    # Verificar colunas obrigatórias\n",
    "    faltam = set(COLUNAS_OBRIGATORIAS) - set(df.columns)\n",
    "    if faltam:\n",
    "        erros.append(f\"Colunas faltando: {faltam}\")\n",
    "    \n",
    "    # Verificar se tem grupo controle\n",
    "    if 'grupo' in df.columns and GRUPO_CONTROLE not in df['grupo'].values:\n",
    "        erros.append(f\"Grupo controle '{GRUPO_CONTROLE}' não encontrado\")\n",
    "    \n",
    "    # Verificar se não está vazio\n",
    "    if len(df) == 0:\n",
    "        erros.append(\"Arquivo vazio\")\n",
    "    \n",
    "    # Verificar valores nulos em colunas críticas\n",
    "    colunas_criticas = ['id_experimento', 'id_customer', 'grupo']\n",
    "    for col in colunas_criticas:\n",
    "        if col in df.columns and df[col].isnull().any():\n",
    "            erros.append(f\"Valores nulos encontrados na coluna '{col}'\")\n",
    "    \n",
    "    return len(erros) == 0, erros"
   ]
  },
  {
   "cell_type": "code",
   "execution_count": 6,
   "id": "5e771613-e081-48ca-847a-51c3176d4ddf",
   "metadata": {
    "editable": true,
    "execution": {
     "iopub.execute_input": "2025-07-22T14:14:52.363224Z",
     "iopub.status.busy": "2025-07-22T14:14:52.362621Z",
     "iopub.status.idle": "2025-07-22T14:14:52.425783Z",
     "shell.execute_reply": "2025-07-22T14:14:52.424723Z",
     "shell.execute_reply.started": "2025-07-22T14:14:52.363200Z"
    },
    "slideshow": {
     "slide_type": ""
    },
    "tags": []
   },
   "outputs": [
    {
     "name": "stdout",
     "output_type": "stream",
     "text": [
      "Novos arquivos a validar: 2\n",
      "Arquivos já processados: 0\n",
      "Arquivos novos: ['experimento_teste.csv', 'experimento_teste_2.csv']\n"
     ]
    }
   ],
   "source": [
    "# Conectar ao S3 e listar arquivos\n",
    "response = s3.list_objects_v2(Bucket=bucket_name, Prefix=pasta_raw)\n",
    "arquivos_novos = []\n",
    "arquivos_processados = []\n",
    "\n",
    "if 'Contents' in response:\n",
    "    for obj in response['Contents']:\n",
    "        key = obj['Key']\n",
    "        if key.endswith('.csv') and key != pasta_raw:\n",
    "            nome = key.split('/')[-1]\n",
    "            # Verificar se já foi processado (sem try/except)\n",
    "            head_key = f\"{config['pasta_processed']}metricas_{nome}\"\n",
    "            \n",
    "            # Usar head_object diretamente - se falhar, arquivo não foi processado\n",
    "            try:\n",
    "                s3.head_object(Bucket=bucket_name, Key=head_key)\n",
    "                arquivos_processados.append(nome)\n",
    "            except s3.exceptions.NoSuchKey:\n",
    "                arquivos_novos.append(key)\n",
    "            except Exception:\n",
    "                # Se der outro erro, considera como não processado\n",
    "                arquivos_novos.append(key)\n",
    "\n",
    "print(f\"Novos arquivos a validar: {len(arquivos_novos)}\")\n",
    "print(f\"Arquivos já processados: {len(arquivos_processados)}\")\n",
    "if arquivos_novos:\n",
    "    print(f\"Arquivos novos: {[k.split('/')[-1] for k in arquivos_novos]}\")"
   ]
  },
  {
   "cell_type": "code",
   "execution_count": 7,
   "id": "2f8d8071-0dad-4ec6-9374-77c6aef736ff",
   "metadata": {
    "editable": true,
    "execution": {
     "iopub.execute_input": "2025-07-22T14:14:52.427858Z",
     "iopub.status.busy": "2025-07-22T14:14:52.427603Z",
     "iopub.status.idle": "2025-07-22T14:14:52.495046Z",
     "shell.execute_reply": "2025-07-22T14:14:52.494332Z",
     "shell.execute_reply.started": "2025-07-22T14:14:52.427837Z"
    },
    "slideshow": {
     "slide_type": ""
    },
    "tags": []
   },
   "outputs": [
    {
     "name": "stdout",
     "output_type": "stream",
     "text": [
      "\n",
      "Validando experimento_teste.csv\n",
      "✓ experimento_teste.csv válido – 20 linhas\n",
      "\n",
      "Validando experimento_teste_2.csv\n",
      "✗ experimento_teste_2.csv inválido: [\"Colunas faltando: {'id_experimento'}\"]\n",
      "\n",
      "Resumo: 1 válidos, 1 inválidos\n"
     ]
    }
   ],
   "source": [
    "# Validar e salvar resultado\n",
    "resultado = {\n",
    "    'timestamp': datetime.now().isoformat(),\n",
    "    'arquivos_validos': [],\n",
    "    'arquivos_invalidos': []\n",
    "}\n",
    "\n",
    "for key in arquivos_novos:\n",
    "    nome = key.split('/')[-1]\n",
    "    print(f\"\\nValidando {nome}\")\n",
    "    \n",
    "    try:\n",
    "        # Ler arquivo do S3\n",
    "        df = pd.read_csv(s3.get_object(Bucket=bucket_name, Key=key)['Body'])\n",
    "        \n",
    "        # Validar arquivo\n",
    "        valido, erros = validar_arquivo(df, nome)\n",
    "        \n",
    "        if valido:\n",
    "            # Criar diretório temporário se necessário\n",
    "            tmp_dir = '/tmp/processing/temp'\n",
    "            os.makedirs(tmp_dir, exist_ok=True)\n",
    "            caminho_tmp = f\"{tmp_dir}/{nome}\"\n",
    "            \n",
    "            # Salvar arquivo temporariamente\n",
    "            df.to_csv(caminho_tmp, index=False)\n",
    "            \n",
    "            resultado['arquivos_validos'].append({\n",
    "                'key': key,\n",
    "                'nome': nome,\n",
    "                'linhas': len(df),\n",
    "                'colunas': list(df.columns)\n",
    "            })\n",
    "            print(f\"✓ {nome} válido – {len(df)} linhas\")\n",
    "        else:\n",
    "            resultado['arquivos_invalidos'].append({\n",
    "                'key': key,\n",
    "                'nome': nome,\n",
    "                'erros': erros\n",
    "            })\n",
    "            print(f\"✗ {nome} inválido: {erros}\")\n",
    "            \n",
    "    except Exception as e:\n",
    "        resultado['arquivos_invalidos'].append({\n",
    "            'key': key,\n",
    "            'nome': nome,\n",
    "            'erros': [f\"Erro ao processar: {str(e)}\"]\n",
    "        })\n",
    "        print(f\"✗ {nome} erro: {str(e)}\")\n",
    "\n",
    "print(f\"\\nResumo: {len(resultado['arquivos_validos'])} válidos, {len(resultado['arquivos_invalidos'])} inválidos\")"
   ]
  },
  {
   "cell_type": "code",
   "execution_count": 8,
   "id": "f7a881b2-2f93-47b5-985d-33a88daab3dc",
   "metadata": {
    "editable": true,
    "execution": {
     "iopub.execute_input": "2025-07-22T14:14:52.496145Z",
     "iopub.status.busy": "2025-07-22T14:14:52.495892Z",
     "iopub.status.idle": "2025-07-22T14:14:52.501846Z",
     "shell.execute_reply": "2025-07-22T14:14:52.500884Z",
     "shell.execute_reply.started": "2025-07-22T14:14:52.496125Z"
    },
    "slideshow": {
     "slide_type": ""
    },
    "tags": []
   },
   "outputs": [
    {
     "name": "stdout",
     "output_type": "stream",
     "text": [
      "Resultado da validação salvo em validacao_resultado.json\n",
      "Status final: parcialmente_valido\n"
     ]
    }
   ],
   "source": [
    "# Salvar resultado da validação\n",
    "with open(output_validation_file, 'w') as f:\n",
    "    json.dump(resultado, f, indent=2)\n",
    "\n",
    "print(f\"Resultado da validação salvo em {output_validation_file}\")\n",
    "\n",
    "# Determinar status final\n",
    "if len(arquivos_novos) == 0:\n",
    "    status = 'nenhum_arquivo_novo'\n",
    "elif len(resultado['arquivos_invalidos']) == 0:\n",
    "    status = 'todos_validos'\n",
    "elif len(resultado['arquivos_validos']) == 0:\n",
    "    status = 'todos_invalidos'\n",
    "else:\n",
    "    status = 'parcialmente_valido'\n",
    "\n",
    "print(f\"Status final: {status}\")"
   ]
  },
  {
   "cell_type": "code",
   "execution_count": 9,
   "id": "7e419047-8856-4751-ad31-b06f20cf2b9c",
   "metadata": {
    "editable": true,
    "execution": {
     "iopub.execute_input": "2025-07-22T14:14:52.503363Z",
     "iopub.status.busy": "2025-07-22T14:14:52.503055Z",
     "iopub.status.idle": "2025-07-22T14:14:52.554537Z",
     "shell.execute_reply": "2025-07-22T14:14:52.553653Z",
     "shell.execute_reply.started": "2025-07-22T14:14:52.503334Z"
    },
    "slideshow": {
     "slide_type": ""
    },
    "tags": []
   },
   "outputs": [
    {
     "name": "stdout",
     "output_type": "stream",
     "text": [
      "Resultado enviado para s3://experimento-lucas-barbosa/artifacts/validacao_resultado.json\n"
     ]
    }
   ],
   "source": [
    "# Upload do resultado para S3 (sem try/except)\n",
    "s3.upload_file(output_validation_file, bucket_name, f'artifacts/{output_validation_file}')\n",
    "print(f\"Resultado enviado para s3://{bucket_name}/artifacts/{output_validation_file}\")"
   ]
  },
  {
   "cell_type": "code",
   "execution_count": null,
   "id": "f8ede074-23cc-4c22-ad30-afb08734ce96",
   "metadata": {},
   "outputs": [],
   "source": []
  }
 ],
 "metadata": {
  "kernelspec": {
   "display_name": "Python 3 (ipykernel)",
   "language": "python",
   "name": "python3"
  },
  "language_info": {
   "codemirror_mode": {
    "name": "ipython",
    "version": 3
   },
   "file_extension": ".py",
   "mimetype": "text/x-python",
   "name": "python",
   "nbconvert_exporter": "python",
   "pygments_lexer": "ipython3",
   "version": "3.12.9"
  }
 },
 "nbformat": 4,
 "nbformat_minor": 5
}
