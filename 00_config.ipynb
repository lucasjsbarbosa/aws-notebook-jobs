{
 "cells": [
  {
   "cell_type": "code",
   "execution_count": 1,
   "id": "43c74e32-9eac-489a-a6b7-4342c92d4c46",
   "metadata": {
    "editable": true,
    "execution": {
     "iopub.execute_input": "2025-07-21T17:52:26.991242Z",
     "iopub.status.busy": "2025-07-21T17:52:26.990797Z",
     "iopub.status.idle": "2025-07-21T17:52:26.995086Z",
     "shell.execute_reply": "2025-07-21T17:52:26.994260Z",
     "shell.execute_reply.started": "2025-07-21T17:52:26.991214Z"
    },
    "slideshow": {
     "slide_type": ""
    },
    "tags": [
     "parameters"
    ]
   },
   "outputs": [],
   "source": [
    "# Célula 1 - Parâmetros\n",
    "BUCKET_NAME = \"experimento-lucas-barbosa\"\n",
    "PASTA_RAW = \"raw/\"\n",
    "PASTA_PROCESSED = \"processed/\"\n",
    "PASTA_ARCHIVE = \"archive/\"\n",
    "PASTA_ERROR = \"raw/error/\"  # DENTRO de raw/\n",
    "COLUNAS_OBRIGATORIAS = [\n",
    "    'id_experimento',\n",
    "    'id_customer',\n",
    "    'grupo',\n",
    "    'uso',\n",
    "    'valor',\n",
    "    'timestamp'\n",
    "]\n",
    "GRUPO_CONTROLE = \"GC\""
   ]
  },
  {
   "cell_type": "code",
   "execution_count": 2,
   "id": "4e08c2f1-aec7-4540-85be-c532ef1e551c",
   "metadata": {
    "editable": true,
    "execution": {
     "iopub.execute_input": "2025-07-21T17:52:26.996671Z",
     "iopub.status.busy": "2025-07-21T17:52:26.996444Z",
     "iopub.status.idle": "2025-07-21T17:52:27.004229Z",
     "shell.execute_reply": "2025-07-21T17:52:27.002165Z",
     "shell.execute_reply.started": "2025-07-21T17:52:26.996646Z"
    },
    "slideshow": {
     "slide_type": ""
    },
    "tags": [
     "parameters"
    ]
   },
   "outputs": [
    {
     "name": "stdout",
     "output_type": "stream",
     "text": [
      "Configurações carregadas:\n",
      "  Raw: s3://experimento-lucas-barbosa/raw/\n",
      "  Processed: s3://experimento-lucas-barbosa/processed/\n",
      "  Archive: s3://experimento-lucas-barbosa/archive/\n"
     ]
    }
   ],
   "source": [
    "S3_RAW_PATH      = f\"s3://{BUCKET_NAME}/{PASTA_RAW}\"\n",
    "S3_PROCESSED_PATH= f\"s3://{BUCKET_NAME}/{PASTA_PROCESSED}\"\n",
    "S3_ARCHIVE_PATH  = f\"s3://{BUCKET_NAME}/{PASTA_ARCHIVE}\"\n",
    "\n",
    "print(\"Configurações carregadas:\")\n",
    "print(f\"  Raw: {S3_RAW_PATH}\")\n",
    "print(f\"  Processed: {S3_PROCESSED_PATH}\")\n",
    "print(f\"  Archive: {S3_ARCHIVE_PATH}\")\n",
    "\n",
    "#METRICAS_CONFIG = {\n",
    "#    'taxa_conversao': 'Percentual de clientes que usaram',\n",
    "#    'uso_medio':     'Média de uso por cliente',\n",
    "#    'valor_medio':   'Valor médio por cliente',\n",
    "#    'ticket_medio':  'Ticket médio (apenas quem gastou)'\n",
    "#}"
   ]
  },
  {
   "cell_type": "code",
   "execution_count": 3,
   "id": "fde787d2-4579-44c7-933b-ebf801ac40e5",
   "metadata": {
    "editable": true,
    "execution": {
     "iopub.execute_input": "2025-07-21T17:52:27.008783Z",
     "iopub.status.busy": "2025-07-21T17:52:27.008195Z",
     "iopub.status.idle": "2025-07-21T17:52:27.348118Z",
     "shell.execute_reply": "2025-07-21T17:52:27.347358Z",
     "shell.execute_reply.started": "2025-07-21T17:52:27.008750Z"
    },
    "slideshow": {
     "slide_type": ""
    },
    "tags": []
   },
   "outputs": [
    {
     "name": "stdout",
     "output_type": "stream",
     "text": [
      "✓ Configurações salvas localmente em 'config.json'\n",
      "✓ Configurações enviadas para s3://experimento-lucas-barbosa/config/config.json\n"
     ]
    }
   ],
   "source": [
    "# Exportar JSON de configs\n",
    "import json\n",
    "import boto3\n",
    "\n",
    "config = {\n",
    "    'bucket_name': BUCKET_NAME,\n",
    "    'pasta_raw': PASTA_RAW,\n",
    "    'pasta_processed': PASTA_PROCESSED,\n",
    "    'pasta_archive': PASTA_ARCHIVE,\n",
    "    'colunas_obrigatorias': COLUNAS_OBRIGATORIAS,\n",
    "    'grupo_controle': GRUPO_CONTROLE,\n",
    "    #'metricas_config': METRICAS_CONFIG\n",
    "}\n",
    "\n",
    "# Salvar localmente\n",
    "with open('config.json', 'w') as f:\n",
    "    json.dump(config, f, indent=2)\n",
    "print(\"✓ Configurações salvas localmente em 'config.json'\")\n",
    "\n",
    "# Fazer upload para S3\n",
    "try:\n",
    "    s3_client = boto3.client('s3')\n",
    "    s3_client.upload_file('config.json', BUCKET_NAME, 'config/config.json')\n",
    "    print(f\"✓ Configurações enviadas para s3://{BUCKET_NAME}/config/config.json\")\n",
    "except Exception as e:\n",
    "    print(f\"✗ Erro ao enviar config.json para S3: {e}\")\n",
    "    raise"
   ]
  },
  {
   "cell_type": "code",
   "execution_count": null,
   "id": "59209c1b-1517-4b4c-9368-1e87c19f7868",
   "metadata": {},
   "outputs": [],
   "source": []
  }
 ],
 "metadata": {
  "kernelspec": {
   "display_name": "Python 3 (ipykernel)",
   "language": "python",
   "name": "python3"
  },
  "language_info": {
   "codemirror_mode": {
    "name": "ipython",
    "version": 3
   },
   "file_extension": ".py",
   "mimetype": "text/x-python",
   "name": "python",
   "nbconvert_exporter": "python",
   "pygments_lexer": "ipython3",
   "version": "3.12.9"
  }
 },
 "nbformat": 4,
 "nbformat_minor": 5
}
