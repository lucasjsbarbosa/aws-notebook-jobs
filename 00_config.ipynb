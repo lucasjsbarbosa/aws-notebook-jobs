{
 "cells": [
  {
   "cell_type": "code",
   "execution_count": 1,
   "id": "4e08c2f1-aec7-4540-85be-c532ef1e551c",
   "metadata": {
    "editable": true,
    "execution": {
     "iopub.execute_input": "2025-07-18T13:27:25.652405Z",
     "iopub.status.busy": "2025-07-18T13:27:25.651198Z",
     "iopub.status.idle": "2025-07-18T13:27:25.664754Z",
     "shell.execute_reply": "2025-07-18T13:27:25.664064Z",
     "shell.execute_reply.started": "2025-07-18T13:27:25.652371Z"
    },
    "slideshow": {
     "slide_type": ""
    },
    "tags": [
     "parameters"
    ]
   },
   "outputs": [
    {
     "name": "stdout",
     "output_type": "stream",
     "text": [
      "Configurações carregadas:\n",
      "  Raw: s3://experimento-lucas-barbosa/raw/\n",
      "  Processed: s3://experimento-lucas-barbosa/processed/\n",
      "  Archive: s3://experimento-lucas-barbosa/archive/\n"
     ]
    }
   ],
   "source": [
    "#Configurações do S3\n",
    "BUCKET_NAME = \"experimento-lucas-barbosa\"\n",
    "PASTA_RAW    = \"raw/\"\n",
    "PASTA_PROCESSED = \"processed/\"\n",
    "PASTA_ARCHIVE   = \"archive/\"\n",
    "\n",
    "S3_RAW_PATH      = f\"s3://{BUCKET_NAME}/{PASTA_RAW}\"\n",
    "S3_PROCESSED_PATH= f\"s3://{BUCKET_NAME}/{PASTA_PROCESSED}\"\n",
    "S3_ARCHIVE_PATH  = f\"s3://{BUCKET_NAME}/{PASTA_ARCHIVE}\"\n",
    "\n",
    "print(\"Configurações carregadas:\")\n",
    "print(f\"  Raw: {S3_RAW_PATH}\")\n",
    "print(f\"  Processed: {S3_PROCESSED_PATH}\")\n",
    "print(f\"  Archive: {S3_ARCHIVE_PATH}\")"
   ]
  },
  {
   "cell_type": "code",
   "execution_count": 2,
   "id": "fde787d2-4579-44c7-933b-ebf801ac40e5",
   "metadata": {
    "editable": true,
    "execution": {
     "iopub.execute_input": "2025-07-18T13:27:25.666487Z",
     "iopub.status.busy": "2025-07-18T13:27:25.665926Z",
     "iopub.status.idle": "2025-07-18T13:27:25.676921Z",
     "shell.execute_reply": "2025-07-18T13:27:25.675969Z",
     "shell.execute_reply.started": "2025-07-18T13:27:25.666455Z"
    },
    "slideshow": {
     "slide_type": ""
    },
    "tags": []
   },
   "outputs": [
    {
     "name": "stdout",
     "output_type": "stream",
     "text": [
      "\n",
      "Configuração de processamento:\n",
      "  Colunas obrigatórias: ['id_experimento', 'id_customer', 'grupo', 'uso', 'valor', 'timestamp']\n",
      "  Grupo controle: GC\n",
      "  Métricas: ['taxa_conversao', 'uso_medio', 'valor_medio', 'ticket_medio']\n"
     ]
    }
   ],
   "source": [
    "#Parâmetros de processamento\n",
    "COLUNAS_OBRIGATORIAS = [\n",
    "    'id_experimento', \n",
    "    'id_customer', \n",
    "    'grupo', \n",
    "    'uso', \n",
    "    'valor', \n",
    "    'timestamp'\n",
    "]\n",
    "\n",
    "GRUPO_CONTROLE = 'GC'\n",
    "\n",
    "METRICAS_CONFIG = {\n",
    "    'taxa_conversao': 'Percentual de clientes que usaram',\n",
    "    'uso_medio':     'Média de uso por cliente',\n",
    "    'valor_medio':   'Valor médio por cliente',\n",
    "    'ticket_medio':  'Ticket médio (apenas quem gastou)'\n",
    "}\n",
    "\n",
    "print(\"\\nConfiguração de processamento:\")\n",
    "print(f\"  Colunas obrigatórias: {COLUNAS_OBRIGATORIAS}\")\n",
    "print(f\"  Grupo controle: {GRUPO_CONTROLE}\")\n",
    "print(f\"  Métricas: {list(METRICAS_CONFIG.keys())}\")"
   ]
  },
  {
   "cell_type": "code",
   "execution_count": 3,
   "id": "999a19ce-2d68-44e5-aabf-db1c49ee65af",
   "metadata": {
    "editable": true,
    "execution": {
     "iopub.execute_input": "2025-07-18T13:27:25.680520Z",
     "iopub.status.busy": "2025-07-18T13:27:25.679475Z",
     "iopub.status.idle": "2025-07-18T13:27:25.690176Z",
     "shell.execute_reply": "2025-07-18T13:27:25.689169Z",
     "shell.execute_reply.started": "2025-07-18T13:27:25.680484Z"
    },
    "slideshow": {
     "slide_type": ""
    },
    "tags": []
   },
   "outputs": [
    {
     "name": "stdout",
     "output_type": "stream",
     "text": [
      "\n",
      "✓ Configurações salvas em 'config.json'\n"
     ]
    }
   ],
   "source": [
    "#Exportar JSON de configs\n",
    "import json\n",
    "\n",
    "config = {\n",
    "    'bucket_name': BUCKET_NAME,\n",
    "    'pasta_raw': PASTA_RAW,\n",
    "    'pasta_processed': PASTA_PROCESSED,\n",
    "    'pasta_archive': PASTA_ARCHIVE,\n",
    "    'colunas_obrigatorias': COLUNAS_OBRIGATORIAS,\n",
    "    'grupo_controle': GRUPO_CONTROLE,\n",
    "    'metricas_config': METRICAS_CONFIG\n",
    "}\n",
    "\n",
    "with open('config.json', 'w') as f:\n",
    "    json.dump(config, f, indent=2)\n",
    "print(\"\\n✓ Configurações salvas em 'config.json'\")"
   ]
  },
  {
   "cell_type": "code",
   "execution_count": null,
   "id": "24bf730a-9434-4f36-a989-5095156893b1",
   "metadata": {
    "editable": true,
    "slideshow": {
     "slide_type": ""
    },
    "tags": []
   },
   "outputs": [],
   "source": []
  }
 ],
 "metadata": {
  "kernelspec": {
   "display_name": "Python 3 (ipykernel)",
   "language": "python",
   "name": "python3"
  },
  "language_info": {
   "codemirror_mode": {
    "name": "ipython",
    "version": 3
   },
   "file_extension": ".py",
   "mimetype": "text/x-python",
   "name": "python",
   "nbconvert_exporter": "python",
   "pygments_lexer": "ipython3",
   "version": "3.12.9"
  }
 },
 "nbformat": 4,
 "nbformat_minor": 5
}
