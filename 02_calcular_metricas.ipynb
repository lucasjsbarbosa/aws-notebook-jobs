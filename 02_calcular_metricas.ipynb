{
 "cells": [
  {
   "cell_type": "code",
   "execution_count": 1,
   "id": "76fc426c-f958-402b-a9ac-a4c439ce4f81",
   "metadata": {
    "editable": true,
    "execution": {
     "iopub.execute_input": "2025-07-18T13:27:34.489789Z",
     "iopub.status.busy": "2025-07-18T13:27:34.487737Z",
     "iopub.status.idle": "2025-07-18T13:27:35.269370Z",
     "shell.execute_reply": "2025-07-18T13:27:35.268644Z",
     "shell.execute_reply.started": "2025-07-18T13:27:34.489701Z"
    },
    "slideshow": {
     "slide_type": ""
    },
    "tags": []
   },
   "outputs": [],
   "source": [
    "import pandas as pd, json\n",
    "from datetime import datetime\n",
    "import os"
   ]
  },
  {
   "cell_type": "code",
   "execution_count": 2,
   "id": "6cc54a0c-e5d1-4cf6-9009-f569a0c96182",
   "metadata": {
    "editable": true,
    "execution": {
     "iopub.execute_input": "2025-07-18T13:27:35.270637Z",
     "iopub.status.busy": "2025-07-18T13:27:35.270266Z",
     "iopub.status.idle": "2025-07-18T13:27:35.275479Z",
     "shell.execute_reply": "2025-07-18T13:27:35.274276Z",
     "shell.execute_reply.started": "2025-07-18T13:27:35.270611Z"
    },
    "slideshow": {
     "slide_type": ""
    },
    "tags": []
   },
   "outputs": [
    {
     "name": "stdout",
     "output_type": "stream",
     "text": [
      "Início do cálculo: 2025-07-18 13:27:35.271578\n"
     ]
    }
   ],
   "source": [
    "print(f\"Início do cálculo: {datetime.now()}\")"
   ]
  },
  {
   "cell_type": "code",
   "execution_count": 3,
   "id": "f2d5b4b4-41e6-4242-80ad-6fbfe05571a4",
   "metadata": {
    "editable": true,
    "execution": {
     "iopub.execute_input": "2025-07-18T13:27:35.277321Z",
     "iopub.status.busy": "2025-07-18T13:27:35.276536Z",
     "iopub.status.idle": "2025-07-18T13:27:35.282361Z",
     "shell.execute_reply": "2025-07-18T13:27:35.281703Z",
     "shell.execute_reply.started": "2025-07-18T13:27:35.277289Z"
    },
    "slideshow": {
     "slide_type": ""
    },
    "tags": []
   },
   "outputs": [
    {
     "name": "stdout",
     "output_type": "stream",
     "text": [
      "Arquivos válidos: 0\n"
     ]
    }
   ],
   "source": [
    "# Carregar config e resultados\n",
    "with open('config.json') as f: config=json.load(f)\n",
    "with open('validacao_resultado.json') as f: valid=json.load(f)\n",
    "arq_val = valid['arquivos_validos']\n",
    "print(f\"Arquivos válidos: {len(arq_val)}\")"
   ]
  },
  {
   "cell_type": "code",
   "execution_count": 4,
   "id": "219f019a-9410-4a9c-8f85-4e374bd5d1d9",
   "metadata": {
    "editable": true,
    "execution": {
     "iopub.execute_input": "2025-07-18T13:27:35.283702Z",
     "iopub.status.busy": "2025-07-18T13:27:35.283272Z",
     "iopub.status.idle": "2025-07-18T13:27:35.291667Z",
     "shell.execute_reply": "2025-07-18T13:27:35.290962Z",
     "shell.execute_reply.started": "2025-07-18T13:27:35.283674Z"
    },
    "slideshow": {
     "slide_type": ""
    },
    "tags": []
   },
   "outputs": [],
   "source": [
    "# Funções de cálculo\n",
    "def calc_basicas(df, id_exp):\n",
    "    m = []\n",
    "    for grupo in df['grupo'].unique():\n",
    "        d = df[df['grupo'] == grupo]\n",
    "        total = len(d)\n",
    "        conv = (d['uso'] > 0).sum() / total * 100 if total else 0\n",
    "        m.append({'id_experimento': id_exp, 'grupo': grupo, 'metrica': 'taxa_conversao', 'valor': round(conv, 2), 'timestamp': datetime.now().isoformat()})\n",
    "        uso_med = d['uso'].mean()\n",
    "        m.append({'id_experimento': id_exp, 'grupo': grupo, 'metrica': 'uso_medio', 'valor': round(uso_med, 2), 'timestamp': datetime.now().isoformat()})\n",
    "        valor_med = d['valor'].mean()\n",
    "        m.append({'id_experimento': id_exp, 'grupo': grupo, 'metrica': 'valor_medio', 'valor': round(valor_med, 2), 'timestamp': datetime.now().isoformat()})\n",
    "    return pd.DataFrame(m)\n",
    "\n",
    "\n",
    "def calc_lift(df_meta, id_exp, grupo_controle):\n",
    "    lifts = []\n",
    "    df_gc = df_meta[df_meta['grupo'] == grupo_controle]\n",
    "    for met in df_gc['metrica']:\n",
    "        base = df_gc[df_gc['metrica'] == met]['valor'].iloc[0]\n",
    "        if base <= 0: continue\n",
    "        for g in df_meta['grupo'].unique():\n",
    "            if g == grupo_controle: continue\n",
    "            val = df_meta[(df_meta['grupo'] == g) & (df_meta['metrica'] == met)]['valor'].iloc[0]\n",
    "            lifts.append({'id_experimento': id_exp, 'grupo': g, 'metrica': f'lift_{met}', 'valor': round((val - base) / base * 100, 2), 'timestamp': datetime.now().isoformat()})\n",
    "    return pd.DataFrame(lifts)"
   ]
  },
  {
   "cell_type": "code",
   "execution_count": 5,
   "id": "3c906b72-3a3b-4457-9e5c-1dfe649d4033",
   "metadata": {
    "editable": true,
    "execution": {
     "iopub.execute_input": "2025-07-18T13:27:35.294565Z",
     "iopub.status.busy": "2025-07-18T13:27:35.294017Z",
     "iopub.status.idle": "2025-07-18T13:27:35.300836Z",
     "shell.execute_reply": "2025-07-18T13:27:35.299070Z",
     "shell.execute_reply.started": "2025-07-18T13:27:35.294538Z"
    },
    "slideshow": {
     "slide_type": ""
    },
    "tags": []
   },
   "outputs": [
    {
     "name": "stdout",
     "output_type": "stream",
     "text": [
      "⚠️ Nenhuma métrica calculada\n"
     ]
    }
   ],
   "source": [
    "# Executar loop de cálculo\n",
    "todas = []\n",
    "for info in arq_val:\n",
    "    nome = info['nome']\n",
    "    df = pd.read_csv(f\"/tmp/processing/temp/{nome}\")\n",
    "    id_exp = df['id_experimento'].iloc[0]\n",
    "    print(f\"Processando {nome} ({id_exp})\")\n",
    "    df_bas = calc_basicas(df, id_exp)\n",
    "    df_lft = calc_lift(df_bas, id_exp, config['grupo_controle'])\n",
    "    df_full = pd.concat([df_bas, df_lft], ignore_index=True)\n",
    "    df_full['arquivo_origem'] = nome\n",
    "    todas.append(df_full)\n",
    "\n",
    "if todas:\n",
    "    df_all = pd.concat(todas, ignore_index=True)\n",
    "    df_all.to_csv('metricas_completas.csv', index=False)\n",
    "    print(f\"✓ Métricas completas salvas: {len(df_all)} linhas\")\n",
    "else:\n",
    "    print(\"⚠️ Nenhuma métrica calculada\")"
   ]
  },
  {
   "cell_type": "code",
   "execution_count": null,
   "id": "63c078da-f0d3-4b4d-b9cd-8730b922c601",
   "metadata": {
    "editable": true,
    "slideshow": {
     "slide_type": ""
    },
    "tags": []
   },
   "outputs": [],
   "source": []
  }
 ],
 "metadata": {
  "kernelspec": {
   "display_name": "Python 3 (ipykernel)",
   "language": "python",
   "name": "python3"
  },
  "language_info": {
   "codemirror_mode": {
    "name": "ipython",
    "version": 3
   },
   "file_extension": ".py",
   "mimetype": "text/x-python",
   "name": "python",
   "nbconvert_exporter": "python",
   "pygments_lexer": "ipython3",
   "version": "3.12.9"
  }
 },
 "nbformat": 4,
 "nbformat_minor": 5
}
